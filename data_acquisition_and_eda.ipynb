{
 "cells": [
  {
   "cell_type": "markdown",
   "metadata": {},
   "source": [
    "# Deadly Police Encounters - Data Acquisition and EDA\n",
    "\n",
    "Amanda Cheney  \n",
    "Metis Project 3  \n",
    "Part 1 of 2  \n",
    "October 28, 2020\n",
    "\n",
    "**Objective**\n",
    "\n",
    "Build a classification model that can identify where deadly encounters are likely to happen based on socio-economic characteristics of the communities in which they occur.\n",
    "\n",
    "**Data Sources**\n",
    "\n",
    "The Mapping Police Violence project which has data on all deadly police encounters nationwide that including information about the precise location of the killing as well as information about the victim’s race.\n",
    "\n",
    "American Community Survey Data from the US Census Bureau which has data on key socio-economic indicators like education, unemployment, rates of health insurance coverage, use of food stamps, computer ownership and access to the internet – nearly all of which the ACS offers data on by racial/ ethnic categories.\n",
    "\n",
    "Note: I have retained the original ACS codes for all of my features throughout this notebook until the section on feature importance where I provide descriptions of the top 10 most important features. For interpreation of all other feature variables, please consult the Project 3 Codebook file.\n"
   ]
  },
  {
   "cell_type": "markdown",
   "metadata": {},
   "source": [
    "### Imports"
   ]
  },
  {
   "cell_type": "code",
   "execution_count": 1,
   "metadata": {},
   "outputs": [],
   "source": [
    "import pandas as pd\n",
    "import numpy as np\n",
    "import seaborn as sns\n",
    "import pickle\n",
    "import matplotlib.pyplot as plt\n",
    "import requests"
   ]
  },
  {
   "cell_type": "markdown",
   "metadata": {},
   "source": [
    "### Load Mapping Police Dataset"
   ]
  },
  {
   "cell_type": "code",
   "execution_count": 2,
   "metadata": {},
   "outputs": [],
   "source": [
    "mpv = pd.read_excel('/Users/AmandaCheney/github/police_violence_v1/MPV_data/MPVDatasetDownload.xlsx')"
   ]
  },
  {
   "cell_type": "code",
   "execution_count": 3,
   "metadata": {},
   "outputs": [],
   "source": [
    "mpv.columns = mpv.columns.str.strip()"
   ]
  },
  {
   "cell_type": "code",
   "execution_count": 4,
   "metadata": {},
   "outputs": [
    {
     "data": {
      "text/plain": [
       "(8485, 31)"
      ]
     },
     "execution_count": 4,
     "metadata": {},
     "output_type": "execute_result"
    }
   ],
   "source": [
    "mpv.shape"
   ]
  },
  {
   "cell_type": "code",
   "execution_count": 5,
   "metadata": {},
   "outputs": [
    {
     "data": {
      "text/plain": [
       "Index(['Victim's name', 'Victim's age', 'Victim's gender', 'Victim's race',\n",
       "       'URL of image of victim', 'Date of Incident (month/day/year)',\n",
       "       'Street Address of Incident', 'City', 'State', 'Zipcode', 'County',\n",
       "       'Agency responsible for death', 'ORI Agency Identifier (if available)',\n",
       "       'Cause of death',\n",
       "       'A brief description of the circumstances surrounding the death',\n",
       "       'Official disposition of death (justified or other)',\n",
       "       'Criminal Charges?',\n",
       "       'Link to news article or photo of official document',\n",
       "       'Symptoms of mental illness?', 'Unarmed/Did Not Have an Actual Weapon',\n",
       "       'Alleged Weapon (Source: WaPo and Review of Cases Not Included in WaPo Database)',\n",
       "       'Alleged Threat Level (Source: WaPo)', 'Fleeing (Source: WaPo)',\n",
       "       'Body Camera (Source: WaPo)', 'WaPo ID (If included in WaPo database)',\n",
       "       'Off-Duty Killing?',\n",
       "       'Geography (via Trulia methodology based on zipcode population density: http://jedkolko.com/wp-content/uploads/2015/05/full-ZCTA-urban-suburban-rural-classification.xlsx )',\n",
       "       'MPV ID', 'Fatal Encounters ID', 'my addition', 'Unnamed: 30'],\n",
       "      dtype='object')"
      ]
     },
     "execution_count": 5,
     "metadata": {},
     "output_type": "execute_result"
    }
   ],
   "source": [
    "mpv.columns"
   ]
  },
  {
   "cell_type": "markdown",
   "metadata": {},
   "source": [
    "#### Examining the racial composition of the database"
   ]
  },
  {
   "cell_type": "code",
   "execution_count": 6,
   "metadata": {},
   "outputs": [
    {
     "data": {
      "text/plain": [
       "array(['White', 'Hispanic', 'Unknown race', 'Black', 'Asian',\n",
       "       'Native American', 'Pacific Islander'], dtype=object)"
      ]
     },
     "execution_count": 6,
     "metadata": {},
     "output_type": "execute_result"
    }
   ],
   "source": [
    "mpv[\"Victim's race\"].unique()"
   ]
  },
  {
   "cell_type": "code",
   "execution_count": 7,
   "metadata": {},
   "outputs": [
    {
     "data": {
      "text/plain": [
       "(3896, 31)"
      ]
     },
     "execution_count": 7,
     "metadata": {},
     "output_type": "execute_result"
    }
   ],
   "source": [
    "poc_mask1 = mpv[\"Victim's race\"]!='White'\n",
    "poc_mask2 = mpv[\"Victim's race\"]!='Unknown race'\n",
    "poc_mask = poc_mask1 & poc_mask2\n",
    "poc = mpv[poc_mask]\n",
    "poc.shape"
   ]
  },
  {
   "cell_type": "markdown",
   "metadata": {},
   "source": [
    "3896 of the victims in deadly police encounters since 2013 have been people of color."
   ]
  },
  {
   "cell_type": "code",
   "execution_count": 8,
   "metadata": {},
   "outputs": [
    {
     "data": {
      "image/png": "[encoded data removed]",
      "text/plain": [
       "<Figure size 432x288 with 1 Axes>"
      ]
     },
     "metadata": {
      "needs_background": "light"
     },
     "output_type": "display_data"
    }
   ],
   "source": [
    "plt.hist(poc[\"Victim's race\"]);"
   ]
  },
  {
   "cell_type": "code",
   "execution_count": 9,
   "metadata": {},
   "outputs": [
    {
     "data": {
      "text/plain": [
       "White               3732\n",
       "Black               2136\n",
       "Hispanic            1464\n",
       "Unknown race         857\n",
       "Asian                131\n",
       "Native American      119\n",
       "Pacific Islander      46\n",
       "Name: Victim's race, dtype: int64"
      ]
     },
     "execution_count": 9,
     "metadata": {},
     "output_type": "execute_result"
    }
   ],
   "source": [
    "racial_breakdown = mpv[\"Victim's race\"].value_counts()\n",
    "racial_breakdown"
   ]
  },
  {
   "cell_type": "code",
   "execution_count": 10,
   "metadata": {},
   "outputs": [
    {
     "data": {
      "text/plain": [
       "0.5107498689040377"
      ]
     },
     "execution_count": 10,
     "metadata": {},
     "output_type": "execute_result"
    }
   ],
   "source": [
    "# for victim's whose race is known, tallying the percent of victims who are people of color \n",
    "(racial_breakdown[1]+racial_breakdown[2]+racial_breakdown[4]+racial_breakdown[5]+racial_breakdown[6])/(sum(racial_breakdown)-racial_breakdown[3])"
   ]
  },
  {
   "cell_type": "markdown",
   "metadata": {},
   "source": [
    "This intial EDA shows that 8,485 people have been killed by law enforcement agents in the US since 2013. 51% of whom are people of color -- even though they make up less than 40% of the overall population. Therefore I want to focus specifically on the problem of people of color who are killed in deadly police encounters. "
   ]
  },
  {
   "cell_type": "code",
   "execution_count": 11,
   "metadata": {},
   "outputs": [
    {
     "name": "stdout",
     "output_type": "stream",
     "text": [
      "<class 'pandas.core.frame.DataFrame'>\n",
      "RangeIndex: 8485 entries, 0 to 8484\n",
      "Data columns (total 31 columns):\n",
      " #   Column                                                                                                                                                                      Non-Null Count  Dtype         \n",
      "---  ------                                                                                                                                                                      --------------  -----         \n",
      " 0   Victim's name                                                                                                                                                               8485 non-null   object        \n",
      " 1   Victim's age                                                                                                                                                                8474 non-null   object        \n",
      " 2   Victim's gender                                                                                                                                                             8472 non-null   object        \n",
      " 3   Victim's race                                                                                                                                                               8485 non-null   object        \n",
      " 4   URL of image of victim                                                                                                                                                      4563 non-null   object        \n",
      " 5   Date of Incident (month/day/year)                                                                                                                                           8485 non-null   datetime64[ns]\n",
      " 6   Street Address of Incident                                                                                                                                                  8396 non-null   object        \n",
      " 7   City                                                                                                                                                                        8479 non-null   object        \n",
      " 8   State                                                                                                                                                                       8485 non-null   object        \n",
      " 9   Zipcode                                                                                                                                                                     8456 non-null   float64       \n",
      " 10  County                                                                                                                                                                      8471 non-null   object        \n",
      " 11  Agency responsible for death                                                                                                                                                8470 non-null   object        \n",
      " 12  ORI Agency Identifier (if available)                                                                                                                                        8484 non-null   object        \n",
      " 13  Cause of death                                                                                                                                                              8485 non-null   object        \n",
      " 14  A brief description of the circumstances surrounding the death                                                                                                              8468 non-null   object        \n",
      " 15  Official disposition of death (justified or other)                                                                                                                          8474 non-null   object        \n",
      " 16  Criminal Charges?                                                                                                                                                           8485 non-null   object        \n",
      " 17  Link to news article or photo of official document                                                                                                                          8474 non-null   object        \n",
      " 18  Symptoms of mental illness?                                                                                                                                                 8476 non-null   object        \n",
      " 19  Unarmed/Did Not Have an Actual Weapon                                                                                                                                       8485 non-null   object        \n",
      " 20  Alleged Weapon (Source: WaPo and Review of Cases Not Included in WaPo Database)                                                                                             8484 non-null   object        \n",
      " 21  Alleged Threat Level (Source: WaPo)                                                                                                                                         6036 non-null   object        \n",
      " 22  Fleeing (Source: WaPo)                                                                                                                                                      5597 non-null   object        \n",
      " 23  Body Camera (Source: WaPo)                                                                                                                                                  5491 non-null   object        \n",
      " 24  WaPo ID (If included in WaPo database)                                                                                                                                      5572 non-null   float64       \n",
      " 25  Off-Duty Killing?                                                                                                                                                           239 non-null    object        \n",
      " 26  Geography (via Trulia methodology based on zipcode population density: http://jedkolko.com/wp-content/uploads/2015/05/full-ZCTA-urban-suburban-rural-classification.xlsx )  8483 non-null   object        \n",
      " 27  MPV ID                                                                                                                                                                      8485 non-null   int64         \n",
      " 28  Fatal Encounters ID                                                                                                                                                         8401 non-null   float64       \n",
      " 29  my addition                                                                                                                                                                 7 non-null      object        \n",
      " 30  Unnamed: 30                                                                                                                                                                 1 non-null      object        \n",
      "dtypes: datetime64[ns](1), float64(3), int64(1), object(26)\n",
      "memory usage: 2.0+ MB\n"
     ]
    }
   ],
   "source": [
    "mpv.info()"
   ]
  },
  {
   "cell_type": "markdown",
   "metadata": {},
   "source": [
    "Since the Mapping Police Violence data has zip code information for its entire dataset of all deadly encounters – my observations are individual zip codes. So for all zip codes in entire the United States, my model will eventually seek to explain which zip codes have deadly encounters in which people of color are killed by police and which zip codes do not by comparing their socio-economic characteristics."
   ]
  },
  {
   "cell_type": "markdown",
   "metadata": {},
   "source": [
    "#### Create features to eventually measure for each zip code:  \n",
    "- total number of deadly encounters `deadly_encounter`  \n",
    "- total number of people of color killed `poc_killed`   \n",
    "--------\n",
    "Note that the values for each these featurs are the \"true\" counts which range from 0 to 10. After I merge with census data, all the zipcodes not included in `mpv_zipcode` will be assigned values of -1. My intention is to do a binary target variable, but I am preserving values to allow flexibility."
   ]
  },
  {
   "cell_type": "code",
   "execution_count": 12,
   "metadata": {},
   "outputs": [],
   "source": [
    "mpv_df = mpv.copy()"
   ]
  },
  {
   "cell_type": "code",
   "execution_count": 13,
   "metadata": {},
   "outputs": [],
   "source": [
    "mpv_df['deadly_encounter'] = 1 # assign a value of 1 to each entry which represents an incident of a deadly encounter with police"
   ]
  },
  {
   "cell_type": "code",
   "execution_count": 14,
   "metadata": {},
   "outputs": [],
   "source": [
    "mpv_df['poc'] = mpv_df[\"Victim's race\"].apply(lambda x:1 if x!='White' and x!='Unknown race' else 0)"
   ]
  },
  {
   "cell_type": "code",
   "execution_count": 15,
   "metadata": {},
   "outputs": [
    {
     "data": {
      "text/plain": [
       "5328"
      ]
     },
     "execution_count": 15,
     "metadata": {},
     "output_type": "execute_result"
    }
   ],
   "source": [
    "len(mpv_df['Zipcode'].unique()) # includes nan "
   ]
  },
  {
   "cell_type": "code",
   "execution_count": 16,
   "metadata": {},
   "outputs": [],
   "source": [
    "deadlyGroup = mpv_df.groupby(['Zipcode'])['deadly_encounter'].sum().reset_index()\n",
    "pocGroup = mpv_df.groupby(['Zipcode'])['poc'].sum().reset_index()"
   ]
  },
  {
   "cell_type": "code",
   "execution_count": 17,
   "metadata": {},
   "outputs": [],
   "source": [
    "mpv_zipcode = deadlyGroup.merge(pocGroup, how='left', on=\"Zipcode\")"
   ]
  },
  {
   "cell_type": "code",
   "execution_count": 18,
   "metadata": {},
   "outputs": [
    {
     "data": {
      "text/plain": [
       "(5327, 3)"
      ]
     },
     "execution_count": 18,
     "metadata": {},
     "output_type": "execute_result"
    }
   ],
   "source": [
    "mpv_zipcode.shape #nan no longer present "
   ]
  },
  {
   "cell_type": "markdown",
   "metadata": {},
   "source": [
    "5,327 unique zipcodes have had deadly police encounters since 2013. "
   ]
  },
  {
   "cell_type": "markdown",
   "metadata": {},
   "source": [
    "Now to clean up the zipcode variable."
   ]
  },
  {
   "cell_type": "code",
   "execution_count": 19,
   "metadata": {},
   "outputs": [],
   "source": [
    "# MPV zipcodes are imported as floats and accidentally drop leading zeros (tho they are present in the csv they get \n",
    "# lost on import so I need to add those back and convert as type str to enable merge w/ census data (and protect \n",
    "# leading zero)\n",
    "mpv_zipcode['Zipcode']=mpv_zipcode['Zipcode'].astype(int)\n",
    "mpv_zipcode['Zipcode']=mpv_zipcode['Zipcode'].astype(str)\n",
    "mpv_zipcode['Zipcode'] = mpv_zipcode['Zipcode'].apply(lambda x: '0'+x if len(x)<5 else x)\n",
    "\n",
    "# rename zipcode column 'zip code tabulation area' to enable merge with census data \n",
    "mpv_zipcode.rename(columns={'Zipcode':'zip code tabulation area'}, inplace=True)"
   ]
  },
  {
   "cell_type": "markdown",
   "metadata": {},
   "source": [
    "## Acquire ACS Data from the Census API"
   ]
  },
  {
   "cell_type": "markdown",
   "metadata": {},
   "source": [
    "I acquire ACS data from two different sources (1) the 2018 Subject Tables and (2) the 2018 Data Profiles. Rather than grab all of the variables I am interested in in one go from each of these API's, I have chosen to break up my data acquisition by the different sets of socio-economic indicators I'm interested in. I also pickle the individual DataFrames just to make sure I don't lose the data."
   ]
  },
  {
   "cell_type": "code",
   "execution_count": 20,
   "metadata": {},
   "outputs": [],
   "source": [
    "def database_maker(year,version,geocode,variables):\n",
    "    api = f\"https://api.census.gov/data/{year}/acs/acs5/{version}?get={variables}&for={geocode}:*\"\n",
    "    return pd.DataFrame(requests.get(api).json()[1:], columns=requests.get(api).json()[0])"
   ]
  },
  {
   "cell_type": "markdown",
   "metadata": {},
   "source": [
    "**Population** "
   ]
  },
  {
   "cell_type": "markdown",
   "metadata": {},
   "source": [
    "`S0101_C01_001E` Estimate!!Total!!Total population"
   ]
  },
  {
   "cell_type": "code",
   "execution_count": 21,
   "metadata": {},
   "outputs": [],
   "source": [
    "pop_var = 'S0101_C01_001E'\n",
    "total_pop = database_maker('2018', 'subject','zip%20code%20tabulation%20area', pop_var)\n",
    "total_pop = total_pop[['zip code tabulation area', 'S0101_C01_001E']] # re-order cols to use total_pop as base of merging dataframes"
   ]
  },
  {
   "cell_type": "code",
   "execution_count": 22,
   "metadata": {},
   "outputs": [],
   "source": [
    "with open('total_pop.pickle', 'wb') as to_write:\n",
    "    pickle.dump(total_pop, to_write)"
   ]
  },
  {
   "cell_type": "markdown",
   "metadata": {},
   "source": [
    "**Race** "
   ]
  },
  {
   "cell_type": "markdown",
   "metadata": {},
   "source": [
    "`DP05_0078PE`\tPercent Estimate!!HISPANIC OR LATINO AND RACE!!Total population!!Not Hispanic or Latino!!Black or African American alone  \n",
    "`DP05_0071PE`\tPercent Estimate!!HISPANIC OR LATINO AND RACE!!Total population!!Hispanic or Latino (of any race)  \n",
    "`DP05_0077PE`\tPercent Estimate!!HISPANIC OR LATINO AND RACE!!Total population!!Not Hispanic or Latino!!White alone  "
   ]
  },
  {
   "cell_type": "code",
   "execution_count": 23,
   "metadata": {},
   "outputs": [],
   "source": [
    "race_vars='DP05_0078PE,DP05_0071PE,DP05_0077PE'\n",
    "race = database_maker('2018', 'profile','zip%20code%20tabulation%20area',race_vars)"
   ]
  },
  {
   "cell_type": "code",
   "execution_count": 24,
   "metadata": {},
   "outputs": [],
   "source": [
    "with open('race.pickle', 'wb') as to_write:\n",
    "    pickle.dump(race, to_write)"
   ]
  },
  {
   "cell_type": "markdown",
   "metadata": {},
   "source": [
    "**Median Income**"
   ]
  },
  {
   "cell_type": "markdown",
   "metadata": {},
   "source": [
    "`S1903_C03_001E` Estimate!!Median income (dollars)!!HOUSEHOLD INCOME BY RACE AND HISPANIC OR LATINO ORIGIN OF HOUSEHOLDER!!Households  \n",
    "`S1903_C03_003E` Estimate!!Median income (dollars)!!HOUSEHOLD INCOME BY RACE AND HISPANIC OR LATINO ORIGIN OF HOUSEHOLDER!!Households!!One race--!!Black or  African American  \n",
    "`S1903_C03_009E` Estimate!!Median income (dollars)!!HOUSEHOLD INCOME BY RACE AND HISPANIC OR LATINO ORIGIN OF HOUSEHOLDER!!Households!!Hispanic or Latino origin  (of any race)  \n",
    "`S1903_C03_010E` Estimate!!Median income (dollars)!!HOUSEHOLD INCOME BY RACE AND HISPANIC OR LATINO ORIGIN OF HOUSEHOLDER!!Households!!White alone, not Hispanic  or Latino"
   ]
  },
  {
   "cell_type": "code",
   "execution_count": 25,
   "metadata": {},
   "outputs": [],
   "source": [
    "mi_var = 'S1903_C03_001E,S1903_C03_003E,S1903_C03_009E,S1903_C03_010E'\n",
    "median_income = database_maker('2018', 'subject','zip%20code%20tabulation%20area', mi_var)\n",
    "# median_income = database_maker('2018', 'subject','zip%20code%20tabulation%20area',\n",
    "#                                'S1903_C03_001E,S1903_C03_003E,S1903_C03_009E,S1903_C03_010E')"
   ]
  },
  {
   "cell_type": "code",
   "execution_count": 26,
   "metadata": {},
   "outputs": [],
   "source": [
    "with open('median_income.pickle', 'wb') as to_write:\n",
    "    pickle.dump(median_income, to_write)"
   ]
  },
  {
   "cell_type": "markdown",
   "metadata": {},
   "source": [
    "**Education**"
   ]
  },
  {
   "cell_type": "markdown",
   "metadata": {},
   "source": [
    "`DP02_0066PE`\tPercent Estimate!!EDUCATIONAL ATTAINMENT!!Population 25 years and over!!High school graduate or higher  \n",
    "`DP02_0067PE`\tPercent Estimate!!EDUCATIONAL ATTAINMENT!!Population 25 years and over!!Bachelor's degree or higher  \n",
    "Note - there is no breakdown by racial/ ethnic groups for these variables\n"
   ]
  },
  {
   "cell_type": "code",
   "execution_count": 27,
   "metadata": {},
   "outputs": [],
   "source": [
    "hs_grad_var = 'DP02_0066PE,DP02_0067PE'\n",
    "hs_grad = database_maker('2018', 'profile','zip%20code%20tabulation%20area', hs_grad_var)"
   ]
  },
  {
   "cell_type": "code",
   "execution_count": 28,
   "metadata": {},
   "outputs": [],
   "source": [
    "with open('hs_grad.pickle', 'wb') as to_write:\n",
    "    pickle.dump(hs_grad, to_write)"
   ]
  },
  {
   "cell_type": "markdown",
   "metadata": {},
   "source": [
    "**Insurance** "
   ]
  },
  {
   "cell_type": "markdown",
   "metadata": {},
   "source": [
    "`S2701_C03_001E`\tEstimate!!Percent Insured!!Civilian noninstitutionalized population  \n",
    " `S2701_C03_017E`\tEstimate!!Percent Insured!!Civilian noninstitutionalized population!!RACE AND HISPANIC OR LATINO ORIGIN!!Black or African American alone  \n",
    "`S2701_C03_023E`\tEstimate!!Percent Insured!!Civilian noninstitutionalized population!!RACE AND HISPANIC OR LATINO ORIGIN!!Hispanic or Latino (of any race)  \n",
    "`S2701_C03_024E`\tEstimate!!Percent Insured!!Civilian noninstitutionalized population!!RACE AND HISPANIC OR LATINO ORIGIN!!White alone, not Hispanic or Latino \n",
    "\n",
    "`S2701_C05_001E`\tEstimate!!Percent Uninsured!!Civilian noninstitutionalized population  \n",
    "`S2701_C03_038E`\tEstimate!!Percent Insured!!Civilian noninstitutionalized population!!EDUCATIONAL ATTAINMENT!!Civilian noninstitutionalized population 26 years and over!!Less than high school graduate  \n",
    "`S2701_C03_039E`\tEstimate!!Percent Insured!!Civilian noninstitutionalized population!!EDUCATIONAL ATTAINMENT!!Civilian noninstitutionalized population 26 years and over!!High school graduate (includes equivalency)  \n",
    "\n",
    "`S2701_C03_044E`\tEstimate!!Percent Insured!!Civilian noninstitutionalized population!!EMPLOYMENT STATUS!!Civilian noninstitutionalized population 19 to 64 years!!In labor force!!Employed  \n",
    "`S2701_C03_045E`\tEstimate!!Percent Insured!!Civilian noninstitutionalized population!!EMPLOYMENT STATUS!!Civilian noninstitutionalized population 19 to 64 years!!In labor force!!Unemployed  \n",
    "`S2701_C03_046E`\tEstimate!!Percent Insured!!Civilian noninstitutionalized population!!EMPLOYMENT STATUS!!Civilian noninstitutionalized population 19 to 64 years!!Not in labor force  "
   ]
  },
  {
   "cell_type": "code",
   "execution_count": 29,
   "metadata": {},
   "outputs": [],
   "source": [
    "insurance_var = 'S2701_C03_001E,S2701_C03_017E,S2701_C03_023E,S2701_C03_024E,S2701_C05_001E,S2701_C03_038E,S2701_C03_039E,S2701_C03_044E,S2701_C03_045E,S2701_C03_046E'\n",
    "insurance = database_maker('2018', 'subject','zip%20code%20tabulation%20area', insurance_var)"
   ]
  },
  {
   "cell_type": "code",
   "execution_count": 30,
   "metadata": {},
   "outputs": [],
   "source": [
    "with open('insurance.pickle', 'wb') as to_write:\n",
    "    pickle.dump(insurance, to_write)"
   ]
  },
  {
   "cell_type": "markdown",
   "metadata": {},
   "source": [
    "**Poverty**"
   ]
  },
  {
   "cell_type": "markdown",
   "metadata": {},
   "source": [
    "`S2201_C02_021E`\tEstimate!!Percent!!Households!!POVERTY STATUS IN THE PAST 12 MONTHS!!Below poverty level  \n",
    "`S2201_C02_022E`\tEstimate!!Percent!!Households!!POVERTY STATUS IN THE PAST 12 MONTHS!!At or above poverty level  "
   ]
  },
  {
   "cell_type": "code",
   "execution_count": 31,
   "metadata": {},
   "outputs": [],
   "source": [
    "pov_var = 'S2201_C02_021E,S2201_C02_022E'\n",
    "poverty = database_maker('2018', 'subject','zip%20code%20tabulation%20area', pov_var)"
   ]
  },
  {
   "cell_type": "code",
   "execution_count": 32,
   "metadata": {},
   "outputs": [],
   "source": [
    "with open('poverty.pickle', 'wb') as to_write:\n",
    "    pickle.dump(poverty, to_write)"
   ]
  },
  {
   "cell_type": "markdown",
   "metadata": {},
   "source": [
    "**SNAP/ Food stamps**"
   ]
  },
  {
   "cell_type": "markdown",
   "metadata": {},
   "source": [
    "`S2201_C04_001E`\tEstimate!!Percent households receiving food stamps/SNAP!!Households  \n",
    "`S2201_C04_009E`\tEstimate!!Percent households receiving food stamps/SNAP!!Households!!With children under 18 years  \n",
    "`S2201_C04_013E`\tEstimate!!Percent households receiving food stamps/SNAP!!Households!!With children under 18 years!!Other family!!Female householder, no husband present  \n",
    "\n",
    "`S2201_C04_026E`\tEstimate!!Percent households receiving food stamps/SNAP!!Households!!RACE AND HISPANIC OR LATINO ORIGIN OF HOUSEHOLDER!!Black or African American alone  \n",
    "`S2201_C04_032E`\tEstimate!!Percent households receiving food stamps/SNAP!!Households!!RACE AND HISPANIC OR LATINO ORIGIN OF HOUSEHOLDER!!Hispanic or Latino origin (of any race)  \n",
    "`S2201_C04_033E`\tEstimate!!Percent households receiving food stamps/SNAP!!Households!!RACE AND HISPANIC OR LATINO ORIGIN OF HOUSEHOLDER!!White alone, not Hispanic or Latino  "
   ]
  },
  {
   "cell_type": "code",
   "execution_count": 33,
   "metadata": {},
   "outputs": [],
   "source": [
    "snap_var = 'S2201_C04_001E,S2201_C04_009E,S2201_C04_013E,S2201_C04_026E,S2201_C04_032E,S2201_C04_033E'\n",
    "snap = database_maker('2018', 'subject','zip%20code%20tabulation%20area', snap_var)"
   ]
  },
  {
   "cell_type": "code",
   "execution_count": 34,
   "metadata": {},
   "outputs": [],
   "source": [
    "with open('snap.pickle', 'wb') as to_write:\n",
    "    pickle.dump(snap, to_write)"
   ]
  },
  {
   "cell_type": "markdown",
   "metadata": {},
   "source": [
    "**Unemployment**"
   ]
  },
  {
   "cell_type": "markdown",
   "metadata": {},
   "source": [
    "`S2201_C02_036E`\tEstimate!!Percent!!WORK STATUS!!Families!!No workers in past 12 months  \n",
    "`S2301_C04_001E`\tEstimate!!Unemployment rate!!Population 16 years and over  \n",
    "`S2301_C04_006E`\tEstimate!!Unemployment rate!!Population 16 years and over!!AGE!!35 to 44 years  \n",
    "`S2301_C04_020E`\tEstimate!!Unemployment rate!!Population 16 years and over!!RACE AND HISPANIC OR LATINO ORIGIN!!White alone, not Hispanic or Latino  \n",
    "`S2301_C04_013E`\tEstimate!!Unemployment rate!!Population 16 years and over!!RACE AND HISPANIC OR LATINO ORIGIN!!Black or African American alone  \n",
    "`S2301_C04_019E`\tEstimate!!Unemployment rate!!Population 16 years and over!!RACE AND HISPANIC OR LATINO ORIGIN!!Hispanic or Latino origin (of any race)  \n",
    "\n",
    "`S2301_C04_021E`\tEstimate!!Unemployment rate!!Population 20 to 64 years  \n",
    "`S2301_C04_022E`\tEstimate!!Unemployment rate!!Population 20 to 64 years!!SEX!!Male  \n",
    "`S2301_C04_023E`\tEstimate!!Unemployment rate!!Population 20 to 64 years!!SEX!!Female  \n",
    "\n",
    "\n",
    "\n",
    "`S2301_C04_032E`\tEstimate!!Unemployment rate!!EDUCATIONAL ATTAINMENT!!Population 25 to 64 years!!Less than high school graduate\n",
    "`S2301_C04_033E`\tEstimate!!Unemployment rate!!EDUCATIONAL ATTAINMENT!!Population 25 to 64 years!!High school graduate (includes equivalency)\n"
   ]
  },
  {
   "cell_type": "code",
   "execution_count": 35,
   "metadata": {},
   "outputs": [],
   "source": [
    "unemployment_var = 'S2201_C02_036E,S2301_C04_001E,S2301_C04_006E,S2301_C04_020E,S2301_C04_013E,S2301_C04_019E,S2301_C04_021E,S2301_C04_022E,S2301_C04_023E,S2301_C04_032E,S2301_C04_033E'\n",
    "unemployment = database_maker('2018', 'subject','zip%20code%20tabulation%20area', unemployment_var)"
   ]
  },
  {
   "cell_type": "code",
   "execution_count": 36,
   "metadata": {},
   "outputs": [],
   "source": [
    "with open('unemployment.pickle', 'wb') as to_write:\n",
    "    pickle.dump(unemployment, to_write)"
   ]
  },
  {
   "cell_type": "markdown",
   "metadata": {},
   "source": [
    "**Access to Technology**"
   ]
  },
  {
   "cell_type": "markdown",
   "metadata": {},
   "source": [
    "\n",
    "`S2802_C05_001E`\tEstimate!!With a computer!!Percent without an Internet Subscription!!Total population in households  \n",
    "`S2802_C05_006E`\tEstimate!!With a computer!!Percent without an Internet Subscription!!Total population in households!!RACE AND HISPANIC OR LATINO ORIGIN!!Black or African American alone  \n",
    "`S2802_C05_012E`\tEstimate!!With a computer!!Percent without an Internet Subscription!!Total population in households!!RACE AND HISPANIC OR LATINO ORIGIN!!Hispanic or Latino origin (of any race)  \n",
    "`S2802_C05_013E`\tEstimate!!With a computer!!Percent without an Internet Subscription!!Total population in households!!RACE AND HISPANIC OR LATINO ORIGIN!!White alone, not Hispanic or Latino  \n",
    "\n",
    "`S2802_C07_001E`\tEstimate!!Percent no computer in household!!Total population in households  \n",
    "`S2802_C07_006E`\tEstimate!!Percent no computer in household!!Total population in households!!RACE AND HISPANIC OR LATINO ORIGIN!!Black or African American alone  \n",
    "`S2802_C07_012E`\tEstimate!!Percent no computer in household!!Total population in households!!RACE AND HISPANIC OR LATINO ORIGIN!!Hispanic or Latino origin (of any race)  \n",
    "`S2802_C07_013E`\tEstimate!!Percent no computer in household!!Total population in households!!RACE AND HISPANIC OR LATINO ORIGIN!!White alone, not Hispanic or Latino  \n"
   ]
  },
  {
   "cell_type": "code",
   "execution_count": 37,
   "metadata": {},
   "outputs": [],
   "source": [
    "tech_var = 'S2802_C05_001E,S2802_C05_006E,S2802_C05_012E,S2802_C05_013E,S2802_C07_001E,S2802_C07_006E,S2802_C07_012E,S2802_C07_013E'\n",
    "tech = database_maker('2018', 'subject','zip%20code%20tabulation%20area', tech_var)"
   ]
  },
  {
   "cell_type": "code",
   "execution_count": 38,
   "metadata": {},
   "outputs": [],
   "source": [
    "with open('tech.pickle', 'wb') as to_write:\n",
    "    pickle.dump(tech, to_write)"
   ]
  },
  {
   "cell_type": "markdown",
   "metadata": {},
   "source": [
    "## Build Data Frame "
   ]
  },
  {
   "cell_type": "code",
   "execution_count": 39,
   "metadata": {},
   "outputs": [],
   "source": [
    "df = total_pop.merge(median_income, how='outer', on='zip code tabulation area')"
   ]
  },
  {
   "cell_type": "code",
   "execution_count": 40,
   "metadata": {},
   "outputs": [
    {
     "data": {
      "text/plain": [
       "(33120, 6)"
      ]
     },
     "execution_count": 40,
     "metadata": {},
     "output_type": "execute_result"
    }
   ],
   "source": [
    "df.shape"
   ]
  },
  {
   "cell_type": "code",
   "execution_count": 41,
   "metadata": {},
   "outputs": [],
   "source": [
    "df = df.merge(race, how='outer', on='zip code tabulation area')"
   ]
  },
  {
   "cell_type": "code",
   "execution_count": 42,
   "metadata": {},
   "outputs": [],
   "source": [
    "df = df.merge(hs_grad, how='outer', on='zip code tabulation area')"
   ]
  },
  {
   "cell_type": "code",
   "execution_count": 43,
   "metadata": {},
   "outputs": [],
   "source": [
    "df = df.merge(insurance, how='outer', on='zip code tabulation area')"
   ]
  },
  {
   "cell_type": "code",
   "execution_count": 44,
   "metadata": {},
   "outputs": [],
   "source": [
    "df = df.merge(poverty, how='outer', on='zip code tabulation area')"
   ]
  },
  {
   "cell_type": "code",
   "execution_count": 45,
   "metadata": {},
   "outputs": [],
   "source": [
    "df = df.merge(snap, how='outer', on='zip code tabulation area')"
   ]
  },
  {
   "cell_type": "code",
   "execution_count": 46,
   "metadata": {},
   "outputs": [],
   "source": [
    "df = df.merge(unemployment, how='outer', on='zip code tabulation area')"
   ]
  },
  {
   "cell_type": "code",
   "execution_count": 47,
   "metadata": {},
   "outputs": [],
   "source": [
    "df = df.merge(tech, how='outer', on='zip code tabulation area')"
   ]
  },
  {
   "cell_type": "code",
   "execution_count": 48,
   "metadata": {},
   "outputs": [],
   "source": [
    "df = df.merge(mpv_zipcode, how='outer', on='zip code tabulation area')"
   ]
  },
  {
   "cell_type": "code",
   "execution_count": 49,
   "metadata": {},
   "outputs": [
    {
     "data": {
      "text/plain": [
       "(33139, 50)"
      ]
     },
     "execution_count": 49,
     "metadata": {},
     "output_type": "execute_result"
    }
   ],
   "source": [
    "df.shape"
   ]
  },
  {
   "cell_type": "code",
   "execution_count": 50,
   "metadata": {},
   "outputs": [
    {
     "name": "stdout",
     "output_type": "stream",
     "text": [
      "<class 'pandas.core.frame.DataFrame'>\n",
      "Int64Index: 33139 entries, 0 to 33138\n",
      "Data columns (total 50 columns):\n",
      " #   Column                    Non-Null Count  Dtype  \n",
      "---  ------                    --------------  -----  \n",
      " 0   zip code tabulation area  33139 non-null  object \n",
      " 1   S0101_C01_001E            33120 non-null  object \n",
      " 2   S1903_C03_001E            33085 non-null  object \n",
      " 3   S1903_C03_003E            33085 non-null  object \n",
      " 4   S1903_C03_009E            33085 non-null  object \n",
      " 5   S1903_C03_010E            33085 non-null  object \n",
      " 6   DP05_0078PE               33120 non-null  object \n",
      " 7   DP05_0071PE               33120 non-null  object \n",
      " 8   DP05_0077PE               33120 non-null  object \n",
      " 9   DP02_0066PE               32989 non-null  object \n",
      " 10  DP02_0067PE               32989 non-null  object \n",
      " 11  S2701_C03_001E            33120 non-null  object \n",
      " 12  S2701_C03_017E            33120 non-null  object \n",
      " 13  S2701_C03_023E            33120 non-null  object \n",
      " 14  S2701_C03_024E            33120 non-null  object \n",
      " 15  S2701_C05_001E            33120 non-null  object \n",
      " 16  S2701_C03_038E            33120 non-null  object \n",
      " 17  S2701_C03_039E            33120 non-null  object \n",
      " 18  S2701_C03_044E            33120 non-null  object \n",
      " 19  S2701_C03_045E            33120 non-null  object \n",
      " 20  S2701_C03_046E            33120 non-null  object \n",
      " 21  S2201_C02_021E            33120 non-null  object \n",
      " 22  S2201_C02_022E            33120 non-null  object \n",
      " 23  S2201_C04_001E            33120 non-null  object \n",
      " 24  S2201_C04_009E            33120 non-null  object \n",
      " 25  S2201_C04_013E            33120 non-null  object \n",
      " 26  S2201_C04_026E            33120 non-null  object \n",
      " 27  S2201_C04_032E            33120 non-null  object \n",
      " 28  S2201_C04_033E            33120 non-null  object \n",
      " 29  S2201_C02_036E            33120 non-null  object \n",
      " 30  S2301_C04_001E            33085 non-null  object \n",
      " 31  S2301_C04_006E            33085 non-null  object \n",
      " 32  S2301_C04_020E            33085 non-null  object \n",
      " 33  S2301_C04_013E            33085 non-null  object \n",
      " 34  S2301_C04_019E            33085 non-null  object \n",
      " 35  S2301_C04_021E            33085 non-null  object \n",
      " 36  S2301_C04_022E            33085 non-null  object \n",
      " 37  S2301_C04_023E            33085 non-null  object \n",
      " 38  S2301_C04_032E            33085 non-null  object \n",
      " 39  S2301_C04_033E            33085 non-null  object \n",
      " 40  S2802_C05_001E            33120 non-null  object \n",
      " 41  S2802_C05_006E            33120 non-null  object \n",
      " 42  S2802_C05_012E            33120 non-null  object \n",
      " 43  S2802_C05_013E            33120 non-null  object \n",
      " 44  S2802_C07_001E            33120 non-null  object \n",
      " 45  S2802_C07_006E            33120 non-null  object \n",
      " 46  S2802_C07_012E            33120 non-null  object \n",
      " 47  S2802_C07_013E            33120 non-null  object \n",
      " 48  deadly_encounter          5327 non-null   float64\n",
      " 49  poc                       5327 non-null   float64\n",
      "dtypes: float64(2), object(48)\n",
      "memory usage: 12.9+ MB\n"
     ]
    }
   ],
   "source": [
    "df.info()"
   ]
  },
  {
   "cell_type": "markdown",
   "metadata": {},
   "source": [
    "Most of the ACS Census data is appearing as objects/strings so let's convert them to floats. "
   ]
  },
  {
   "cell_type": "code",
   "execution_count": 51,
   "metadata": {},
   "outputs": [],
   "source": [
    "df.iloc[:,1:50] = df.iloc[:,1:50].astype(float)"
   ]
  },
  {
   "cell_type": "code",
   "execution_count": 52,
   "metadata": {},
   "outputs": [
    {
     "name": "stdout",
     "output_type": "stream",
     "text": [
      "<class 'pandas.core.frame.DataFrame'>\n",
      "Int64Index: 33139 entries, 0 to 33138\n",
      "Data columns (total 50 columns):\n",
      " #   Column                    Non-Null Count  Dtype  \n",
      "---  ------                    --------------  -----  \n",
      " 0   zip code tabulation area  33139 non-null  object \n",
      " 1   S0101_C01_001E            33120 non-null  float64\n",
      " 2   S1903_C03_001E            33085 non-null  float64\n",
      " 3   S1903_C03_003E            33085 non-null  float64\n",
      " 4   S1903_C03_009E            33085 non-null  float64\n",
      " 5   S1903_C03_010E            33085 non-null  float64\n",
      " 6   DP05_0078PE               33120 non-null  float64\n",
      " 7   DP05_0071PE               33120 non-null  float64\n",
      " 8   DP05_0077PE               33120 non-null  float64\n",
      " 9   DP02_0066PE               32989 non-null  float64\n",
      " 10  DP02_0067PE               32989 non-null  float64\n",
      " 11  S2701_C03_001E            33120 non-null  float64\n",
      " 12  S2701_C03_017E            33120 non-null  float64\n",
      " 13  S2701_C03_023E            33120 non-null  float64\n",
      " 14  S2701_C03_024E            33120 non-null  float64\n",
      " 15  S2701_C05_001E            33120 non-null  float64\n",
      " 16  S2701_C03_038E            33120 non-null  float64\n",
      " 17  S2701_C03_039E            33120 non-null  float64\n",
      " 18  S2701_C03_044E            33120 non-null  float64\n",
      " 19  S2701_C03_045E            33120 non-null  float64\n",
      " 20  S2701_C03_046E            33120 non-null  float64\n",
      " 21  S2201_C02_021E            33120 non-null  float64\n",
      " 22  S2201_C02_022E            33120 non-null  float64\n",
      " 23  S2201_C04_001E            33120 non-null  float64\n",
      " 24  S2201_C04_009E            33120 non-null  float64\n",
      " 25  S2201_C04_013E            33120 non-null  float64\n",
      " 26  S2201_C04_026E            33120 non-null  float64\n",
      " 27  S2201_C04_032E            33120 non-null  float64\n",
      " 28  S2201_C04_033E            33120 non-null  float64\n",
      " 29  S2201_C02_036E            33120 non-null  float64\n",
      " 30  S2301_C04_001E            33085 non-null  float64\n",
      " 31  S2301_C04_006E            33085 non-null  float64\n",
      " 32  S2301_C04_020E            33085 non-null  float64\n",
      " 33  S2301_C04_013E            33085 non-null  float64\n",
      " 34  S2301_C04_019E            33085 non-null  float64\n",
      " 35  S2301_C04_021E            33085 non-null  float64\n",
      " 36  S2301_C04_022E            33085 non-null  float64\n",
      " 37  S2301_C04_023E            33085 non-null  float64\n",
      " 38  S2301_C04_032E            33085 non-null  float64\n",
      " 39  S2301_C04_033E            33085 non-null  float64\n",
      " 40  S2802_C05_001E            33120 non-null  float64\n",
      " 41  S2802_C05_006E            33120 non-null  float64\n",
      " 42  S2802_C05_012E            33120 non-null  float64\n",
      " 43  S2802_C05_013E            33120 non-null  float64\n",
      " 44  S2802_C07_001E            33120 non-null  float64\n",
      " 45  S2802_C07_006E            33120 non-null  float64\n",
      " 46  S2802_C07_012E            33120 non-null  float64\n",
      " 47  S2802_C07_013E            33120 non-null  float64\n",
      " 48  deadly_encounter          5327 non-null   float64\n",
      " 49  poc                       5327 non-null   float64\n",
      "dtypes: float64(49), object(1)\n",
      "memory usage: 12.9+ MB\n"
     ]
    }
   ],
   "source": [
    "df.info()"
   ]
  },
  {
   "cell_type": "markdown",
   "metadata": {},
   "source": [
    "## Data Engineering "
   ]
  },
  {
   "cell_type": "markdown",
   "metadata": {},
   "source": [
    "#### Filling null values for all the deadly encounter features from the MPV dataset. \n",
    "Because only 5327 zipcodes have had deadly police encounters, we need to assign a value to all the other zipcodes in `df`."
   ]
  },
  {
   "cell_type": "code",
   "execution_count": 53,
   "metadata": {},
   "outputs": [],
   "source": [
    "df[['deadly_encounter', 'poc']] = df[['deadly_encounter', 'poc']].fillna((0))"
   ]
  },
  {
   "cell_type": "markdown",
   "metadata": {},
   "source": [
    "Rename zip code column so it can be used in SQL "
   ]
  },
  {
   "cell_type": "code",
   "execution_count": 54,
   "metadata": {},
   "outputs": [],
   "source": [
    "df.rename(columns={'zip code tabulation area': 'zip_code_tabulation_area'}, inplace=True)"
   ]
  },
  {
   "cell_type": "code",
   "execution_count": 55,
   "metadata": {},
   "outputs": [],
   "source": [
    "with open('df.pickle', 'wb') as to_write:\n",
    "    pickle.dump(df, to_write)"
   ]
  },
  {
   "cell_type": "markdown",
   "metadata": {},
   "source": [
    "------"
   ]
  },
  {
   "cell_type": "markdown",
   "metadata": {},
   "source": [
    "### Dealing with Missing Values "
   ]
  },
  {
   "cell_type": "markdown",
   "metadata": {},
   "source": [
    "Although there appear to be very few null values in the dataset above, this is deceving because the census marks NaN's with a value of -666666666.0. More importantly, in some cases this may be a *genuine* missing value such as the value for the Black median income in a community with 0% Black population, while in others it denotes a missing value that 'ought' to be there like total population. In the case of the former, I can't exactly impute values because this would distort the on the ground truth of this zipcode. At the same time, were I to drop all rows contains values of -666666666, I would be throwing away nearly the entire dataset. Therefore I perform a manual screening of variables related the the entire zipcode population (i.e. not ones that are related to specific racial/ethnic or other sub-groups) to get rid of missing values that are missing because of bad data, not because there is no way to have a value for that feature. I use print statement to show how many rows we are losing along the way. "
   ]
  },
  {
   "cell_type": "code",
   "execution_count": 56,
   "metadata": {},
   "outputs": [
    {
     "name": "stdout",
     "output_type": "stream",
     "text": [
      "(33139, 50)\n",
      "(32799, 50)\n",
      "(30891, 50)\n",
      "(30766, 50)\n",
      "(30766, 50)\n",
      "(30766, 50)\n",
      "(30766, 50)\n",
      "(30737, 50)\n",
      "(28162, 50)\n",
      "(28081, 50)\n",
      "(28081, 50)\n",
      "(28081, 50)\n"
     ]
    }
   ],
   "source": [
    "print(df.shape) \n",
    "df=df[df.S0101_C01_001E>0] #drop rows that have 0.0 total population \n",
    "print(df.shape)\n",
    "df=df[df.S1903_C03_001E>0] #drop rows that have no data on median income \n",
    "print(df.shape) \n",
    "df=df[df.DP02_0066PE>0] #drop rows that have no data on high school graduation. HS grad rate of 0 is dubous \n",
    "print(df.shape) \n",
    "df=df[df.S2201_C02_021E>=0] #drop rows that have no data on poverty. 0% pov is possible.\n",
    "print(df.shape) \n",
    "df=df[df.S2201_C04_001E>=0] #drop rows that have no data on SNAP. 0% SNAP is possible  \n",
    "print(df.shape) \n",
    "df[df.S2301_C04_001E>=0] # drop rows that have no data on unemployment rate for 16+ y/o pop. 0% is possible\n",
    "print(df.shape)\n",
    "df = df[df.S2301_C04_021E>=0] # drop rows that have no data on unemployment rate for 20-64. 0% is possible\n",
    "print(df.shape)\n",
    "df=df[df.S2301_C04_032E>=0] #drop rows that have no data on unemployment rate for less than high school graduates. 0% is possible\n",
    "print(df.shape)\n",
    "df=df[df.S2301_C04_033E>=0] #drop rows that have no data on unemployment rate for high school graduates. 0% is possible\n",
    "print(df.shape)\n",
    "df=df[df.S2802_C05_001E>=0] #drop rows that have no data on internet subscription. 0% is possible\n",
    "print(df.shape)\n",
    "df=df[df.S2802_C07_001E>=0] #drop rows that have no data on computer ownership. 0% is possible \n",
    "print(df.shape)"
   ]
  },
  {
   "cell_type": "code",
   "execution_count": 57,
   "metadata": {},
   "outputs": [
    {
     "data": {
      "text/plain": [
       "5058"
      ]
     },
     "execution_count": 57,
     "metadata": {},
     "output_type": "execute_result"
    }
   ],
   "source": [
    "33139-28081"
   ]
  },
  {
   "cell_type": "markdown",
   "metadata": {},
   "source": [
    "All in all we lots 5,058 rows which is not insignificant, but with 28,081 observations we are still in good shape."
   ]
  },
  {
   "cell_type": "markdown",
   "metadata": {},
   "source": [
    "Now to replace remaining \"genuine\" missing values (e.g. Black median income in a community with 0% Black population) with .001 for all variables."
   ]
  },
  {
   "cell_type": "code",
   "execution_count": 58,
   "metadata": {},
   "outputs": [],
   "source": [
    "df.replace(-666666666.0, .001, inplace=True)"
   ]
  },
  {
   "cell_type": "markdown",
   "metadata": {},
   "source": [
    "Penultimate step is to create a binary version of my target variable"
   ]
  },
  {
   "cell_type": "code",
   "execution_count": 59,
   "metadata": {},
   "outputs": [],
   "source": [
    "df['bi_poc'] = df['poc'].apply(lambda x: 1 if x>0 else 0) # binarize target variable for analysis"
   ]
  },
  {
   "cell_type": "code",
   "execution_count": 62,
   "metadata": {},
   "outputs": [],
   "source": [
    "deadly=df[df['bi_poc']==1]\n",
    "non_deadly=df[df['bi_poc']==0]"
   ]
  },
  {
   "cell_type": "code",
   "execution_count": 71,
   "metadata": {},
   "outputs": [
    {
     "name": "stdout",
     "output_type": "stream",
     "text": [
      "0 inf\n",
      "1 32154.073535194653\n",
      "2 54267.766417616986\n",
      "3 38762.271067636815\n",
      "4 45538.9945949666\n",
      "5 61476.922939834825\n",
      "6 20.900589854502556\n",
      "7 25.465277231616245\n",
      "8 43.94490758946124\n",
      "9 83.11376327172626\n",
      "10 26.130672434132922\n",
      "11 87.89229256783318\n",
      "12 87.30898269760105\n",
      "13 79.65749665749134\n",
      "14 91.50731419583197\n",
      "15 12.107707432166716\n",
      "16 77.35296893432931\n",
      "17 83.87023200943763\n",
      "18 84.31112858828149\n",
      "19 66.44970782540307\n",
      "20 81.66913094769961\n",
      "21 18.077034998033774\n",
      "22 81.92300432559949\n",
      "23 17.126110892646466\n",
      "24 53.518680298859586\n",
      "25 28.862290208415235\n",
      "26 30.319938655131754\n",
      "27 26.916478175383453\n",
      "28 34.78108690523002\n",
      "29 14.990758946126608\n",
      "30 7.466260322453794\n",
      "31 6.103381832481314\n",
      "32 6.013134486826589\n",
      "33 10.76651946519857\n",
      "34 7.208152575698\n",
      "35 6.971372394809285\n",
      "36 7.170939834840734\n",
      "37 6.7953991348800615\n",
      "38 10.557058592213899\n",
      "39 7.743295320487589\n",
      "40 10.14844671647662\n",
      "41 12.188182854895791\n",
      "42 12.192809673613853\n",
      "43 7.556940621313425\n",
      "44 9.698466378293361\n",
      "45 11.357038537160843\n",
      "46 9.434610696028308\n",
      "47 8.526818718049554\n",
      "48 1.9854502556036178\n",
      "49 1.5147463625639008\n",
      "50 1.0\n"
     ]
    },
    {
     "ename": "IndexError",
     "evalue": "single positional indexer is out-of-bounds",
     "output_type": "error",
     "traceback": [
      "\u001b[0;31m---------------------------------------------------------------------------\u001b[0m",
      "\u001b[0;31mIndexError\u001b[0m                                Traceback (most recent call last)",
      "\u001b[0;32m<ipython-input-71-44e3ee5dc1f6>\u001b[0m in \u001b[0;36m<module>\u001b[0;34m\u001b[0m\n\u001b[1;32m      1\u001b[0m \u001b[0;32mfor\u001b[0m \u001b[0mi\u001b[0m \u001b[0;32min\u001b[0m \u001b[0mrange\u001b[0m\u001b[0;34m(\u001b[0m\u001b[0mlen\u001b[0m\u001b[0;34m(\u001b[0m\u001b[0mdeadly\u001b[0m\u001b[0;34m)\u001b[0m\u001b[0;34m)\u001b[0m\u001b[0;34m:\u001b[0m\u001b[0;34m\u001b[0m\u001b[0;34m\u001b[0m\u001b[0m\n\u001b[0;32m----> 2\u001b[0;31m     \u001b[0mprint\u001b[0m\u001b[0;34m(\u001b[0m\u001b[0mi\u001b[0m\u001b[0;34m,\u001b[0m \u001b[0mdeadly\u001b[0m\u001b[0;34m.\u001b[0m\u001b[0miloc\u001b[0m\u001b[0;34m[\u001b[0m\u001b[0;34m:\u001b[0m\u001b[0;34m,\u001b[0m\u001b[0mi\u001b[0m\u001b[0;34m]\u001b[0m\u001b[0;34m.\u001b[0m\u001b[0mmean\u001b[0m\u001b[0;34m(\u001b[0m\u001b[0;34m)\u001b[0m\u001b[0;34m)\u001b[0m\u001b[0;34m\u001b[0m\u001b[0;34m\u001b[0m\u001b[0m\n\u001b[0m",
      "\u001b[0;32m~/opt/anaconda3/lib/python3.8/site-packages/pandas/core/indexing.py\u001b[0m in \u001b[0;36m__getitem__\u001b[0;34m(self, key)\u001b[0m\n\u001b[1;32m    871\u001b[0m                     \u001b[0;31m# AttributeError for IntervalTree get_value\u001b[0m\u001b[0;34m\u001b[0m\u001b[0;34m\u001b[0m\u001b[0;34m\u001b[0m\u001b[0m\n\u001b[1;32m    872\u001b[0m                     \u001b[0;32mpass\u001b[0m\u001b[0;34m\u001b[0m\u001b[0;34m\u001b[0m\u001b[0m\n\u001b[0;32m--> 873\u001b[0;31m             \u001b[0;32mreturn\u001b[0m \u001b[0mself\u001b[0m\u001b[0;34m.\u001b[0m\u001b[0m_getitem_tuple\u001b[0m\u001b[0;34m(\u001b[0m\u001b[0mkey\u001b[0m\u001b[0;34m)\u001b[0m\u001b[0;34m\u001b[0m\u001b[0;34m\u001b[0m\u001b[0m\n\u001b[0m\u001b[1;32m    874\u001b[0m         \u001b[0;32melse\u001b[0m\u001b[0;34m:\u001b[0m\u001b[0;34m\u001b[0m\u001b[0;34m\u001b[0m\u001b[0m\n\u001b[1;32m    875\u001b[0m             \u001b[0;31m# we by definition only have the 0th axis\u001b[0m\u001b[0;34m\u001b[0m\u001b[0;34m\u001b[0m\u001b[0;34m\u001b[0m\u001b[0m\n",
      "\u001b[0;32m~/opt/anaconda3/lib/python3.8/site-packages/pandas/core/indexing.py\u001b[0m in \u001b[0;36m_getitem_tuple\u001b[0;34m(self, tup)\u001b[0m\n\u001b[1;32m   1441\u001b[0m     \u001b[0;32mdef\u001b[0m \u001b[0m_getitem_tuple\u001b[0m\u001b[0;34m(\u001b[0m\u001b[0mself\u001b[0m\u001b[0;34m,\u001b[0m \u001b[0mtup\u001b[0m\u001b[0;34m:\u001b[0m \u001b[0mTuple\u001b[0m\u001b[0;34m)\u001b[0m\u001b[0;34m:\u001b[0m\u001b[0;34m\u001b[0m\u001b[0;34m\u001b[0m\u001b[0m\n\u001b[1;32m   1442\u001b[0m \u001b[0;34m\u001b[0m\u001b[0m\n\u001b[0;32m-> 1443\u001b[0;31m         \u001b[0mself\u001b[0m\u001b[0;34m.\u001b[0m\u001b[0m_has_valid_tuple\u001b[0m\u001b[0;34m(\u001b[0m\u001b[0mtup\u001b[0m\u001b[0;34m)\u001b[0m\u001b[0;34m\u001b[0m\u001b[0;34m\u001b[0m\u001b[0m\n\u001b[0m\u001b[1;32m   1444\u001b[0m         \u001b[0;32mtry\u001b[0m\u001b[0;34m:\u001b[0m\u001b[0;34m\u001b[0m\u001b[0;34m\u001b[0m\u001b[0m\n\u001b[1;32m   1445\u001b[0m             \u001b[0;32mreturn\u001b[0m \u001b[0mself\u001b[0m\u001b[0;34m.\u001b[0m\u001b[0m_getitem_lowerdim\u001b[0m\u001b[0;34m(\u001b[0m\u001b[0mtup\u001b[0m\u001b[0;34m)\u001b[0m\u001b[0;34m\u001b[0m\u001b[0;34m\u001b[0m\u001b[0m\n",
      "\u001b[0;32m~/opt/anaconda3/lib/python3.8/site-packages/pandas/core/indexing.py\u001b[0m in \u001b[0;36m_has_valid_tuple\u001b[0;34m(self, key)\u001b[0m\n\u001b[1;32m    700\u001b[0m                 \u001b[0;32mraise\u001b[0m \u001b[0mIndexingError\u001b[0m\u001b[0;34m(\u001b[0m\u001b[0;34m\"Too many indexers\"\u001b[0m\u001b[0;34m)\u001b[0m\u001b[0;34m\u001b[0m\u001b[0;34m\u001b[0m\u001b[0m\n\u001b[1;32m    701\u001b[0m             \u001b[0;32mtry\u001b[0m\u001b[0;34m:\u001b[0m\u001b[0;34m\u001b[0m\u001b[0;34m\u001b[0m\u001b[0m\n\u001b[0;32m--> 702\u001b[0;31m                 \u001b[0mself\u001b[0m\u001b[0;34m.\u001b[0m\u001b[0m_validate_key\u001b[0m\u001b[0;34m(\u001b[0m\u001b[0mk\u001b[0m\u001b[0;34m,\u001b[0m \u001b[0mi\u001b[0m\u001b[0;34m)\u001b[0m\u001b[0;34m\u001b[0m\u001b[0;34m\u001b[0m\u001b[0m\n\u001b[0m\u001b[1;32m    703\u001b[0m             \u001b[0;32mexcept\u001b[0m \u001b[0mValueError\u001b[0m \u001b[0;32mas\u001b[0m \u001b[0merr\u001b[0m\u001b[0;34m:\u001b[0m\u001b[0;34m\u001b[0m\u001b[0;34m\u001b[0m\u001b[0m\n\u001b[1;32m    704\u001b[0m                 raise ValueError(\n",
      "\u001b[0;32m~/opt/anaconda3/lib/python3.8/site-packages/pandas/core/indexing.py\u001b[0m in \u001b[0;36m_validate_key\u001b[0;34m(self, key, axis)\u001b[0m\n\u001b[1;32m   1350\u001b[0m             \u001b[0;32mreturn\u001b[0m\u001b[0;34m\u001b[0m\u001b[0;34m\u001b[0m\u001b[0m\n\u001b[1;32m   1351\u001b[0m         \u001b[0;32melif\u001b[0m \u001b[0mis_integer\u001b[0m\u001b[0;34m(\u001b[0m\u001b[0mkey\u001b[0m\u001b[0;34m)\u001b[0m\u001b[0;34m:\u001b[0m\u001b[0;34m\u001b[0m\u001b[0;34m\u001b[0m\u001b[0m\n\u001b[0;32m-> 1352\u001b[0;31m             \u001b[0mself\u001b[0m\u001b[0;34m.\u001b[0m\u001b[0m_validate_integer\u001b[0m\u001b[0;34m(\u001b[0m\u001b[0mkey\u001b[0m\u001b[0;34m,\u001b[0m \u001b[0maxis\u001b[0m\u001b[0;34m)\u001b[0m\u001b[0;34m\u001b[0m\u001b[0;34m\u001b[0m\u001b[0m\n\u001b[0m\u001b[1;32m   1353\u001b[0m         \u001b[0;32melif\u001b[0m \u001b[0misinstance\u001b[0m\u001b[0;34m(\u001b[0m\u001b[0mkey\u001b[0m\u001b[0;34m,\u001b[0m \u001b[0mtuple\u001b[0m\u001b[0;34m)\u001b[0m\u001b[0;34m:\u001b[0m\u001b[0;34m\u001b[0m\u001b[0;34m\u001b[0m\u001b[0m\n\u001b[1;32m   1354\u001b[0m             \u001b[0;31m# a tuple should already have been caught by this point\u001b[0m\u001b[0;34m\u001b[0m\u001b[0;34m\u001b[0m\u001b[0;34m\u001b[0m\u001b[0m\n",
      "\u001b[0;32m~/opt/anaconda3/lib/python3.8/site-packages/pandas/core/indexing.py\u001b[0m in \u001b[0;36m_validate_integer\u001b[0;34m(self, key, axis)\u001b[0m\n\u001b[1;32m   1435\u001b[0m         \u001b[0mlen_axis\u001b[0m \u001b[0;34m=\u001b[0m \u001b[0mlen\u001b[0m\u001b[0;34m(\u001b[0m\u001b[0mself\u001b[0m\u001b[0;34m.\u001b[0m\u001b[0mobj\u001b[0m\u001b[0;34m.\u001b[0m\u001b[0m_get_axis\u001b[0m\u001b[0;34m(\u001b[0m\u001b[0maxis\u001b[0m\u001b[0;34m)\u001b[0m\u001b[0;34m)\u001b[0m\u001b[0;34m\u001b[0m\u001b[0;34m\u001b[0m\u001b[0m\n\u001b[1;32m   1436\u001b[0m         \u001b[0;32mif\u001b[0m \u001b[0mkey\u001b[0m \u001b[0;34m>=\u001b[0m \u001b[0mlen_axis\u001b[0m \u001b[0;32mor\u001b[0m \u001b[0mkey\u001b[0m \u001b[0;34m<\u001b[0m \u001b[0;34m-\u001b[0m\u001b[0mlen_axis\u001b[0m\u001b[0;34m:\u001b[0m\u001b[0;34m\u001b[0m\u001b[0;34m\u001b[0m\u001b[0m\n\u001b[0;32m-> 1437\u001b[0;31m             \u001b[0;32mraise\u001b[0m \u001b[0mIndexError\u001b[0m\u001b[0;34m(\u001b[0m\u001b[0;34m\"single positional indexer is out-of-bounds\"\u001b[0m\u001b[0;34m)\u001b[0m\u001b[0;34m\u001b[0m\u001b[0;34m\u001b[0m\u001b[0m\n\u001b[0m\u001b[1;32m   1438\u001b[0m \u001b[0;34m\u001b[0m\u001b[0m\n\u001b[1;32m   1439\u001b[0m     \u001b[0;31m# -------------------------------------------------------------------\u001b[0m\u001b[0;34m\u001b[0m\u001b[0;34m\u001b[0m\u001b[0;34m\u001b[0m\u001b[0m\n",
      "\u001b[0;31mIndexError\u001b[0m: single positional indexer is out-of-bounds"
     ]
    }
   ],
   "source": [
    "for i in range(len(deadly)):\n",
    "    print(i, deadly.iloc[:,i].mean())"
   ]
  },
  {
   "cell_type": "code",
   "execution_count": 67,
   "metadata": {},
   "outputs": [
    {
     "data": {
      "text/html": [
       "<div>\n",
       "<style scoped>\n",
       "    .dataframe tbody tr th:only-of-type {\n",
       "        vertical-align: middle;\n",
       "    }\n",
       "\n",
       "    .dataframe tbody tr th {\n",
       "        vertical-align: top;\n",
       "    }\n",
       "\n",
       "    .dataframe thead th {\n",
       "        text-align: right;\n",
       "    }\n",
       "</style>\n",
       "<table border=\"1\" class=\"dataframe\">\n",
       "  <thead>\n",
       "    <tr style=\"text-align: right;\">\n",
       "      <th></th>\n",
       "      <th>S0101_C01_001E</th>\n",
       "      <th>S1903_C03_001E</th>\n",
       "      <th>S1903_C03_003E</th>\n",
       "      <th>S1903_C03_009E</th>\n",
       "      <th>S1903_C03_010E</th>\n",
       "      <th>DP05_0078PE</th>\n",
       "      <th>DP05_0071PE</th>\n",
       "      <th>DP05_0077PE</th>\n",
       "      <th>DP02_0066PE</th>\n",
       "      <th>DP02_0067PE</th>\n",
       "      <th>...</th>\n",
       "      <th>S2802_C05_006E</th>\n",
       "      <th>S2802_C05_012E</th>\n",
       "      <th>S2802_C05_013E</th>\n",
       "      <th>S2802_C07_001E</th>\n",
       "      <th>S2802_C07_006E</th>\n",
       "      <th>S2802_C07_012E</th>\n",
       "      <th>S2802_C07_013E</th>\n",
       "      <th>deadly_encounter</th>\n",
       "      <th>poc</th>\n",
       "      <th>bi_poc</th>\n",
       "    </tr>\n",
       "  </thead>\n",
       "  <tbody>\n",
       "    <tr>\n",
       "      <th>count</th>\n",
       "      <td>25538.000000</td>\n",
       "      <td>25538.000000</td>\n",
       "      <td>25538.000000</td>\n",
       "      <td>25538.000000</td>\n",
       "      <td>25538.000000</td>\n",
       "      <td>25538.000000</td>\n",
       "      <td>25538.000000</td>\n",
       "      <td>25538.000000</td>\n",
       "      <td>25538.000000</td>\n",
       "      <td>25538.000000</td>\n",
       "      <td>...</td>\n",
       "      <td>25538.000000</td>\n",
       "      <td>25538.000000</td>\n",
       "      <td>25538.000000</td>\n",
       "      <td>25538.000000</td>\n",
       "      <td>25538.000000</td>\n",
       "      <td>25538.000000</td>\n",
       "      <td>25538.000000</td>\n",
       "      <td>25538.000000</td>\n",
       "      <td>25538.0</td>\n",
       "      <td>25538.0</td>\n",
       "    </tr>\n",
       "    <tr>\n",
       "      <th>mean</th>\n",
       "      <td>9333.853277</td>\n",
       "      <td>59435.926423</td>\n",
       "      <td>17522.442478</td>\n",
       "      <td>25278.296805</td>\n",
       "      <td>61307.619095</td>\n",
       "      <td>6.640684</td>\n",
       "      <td>8.175170</td>\n",
       "      <td>79.189126</td>\n",
       "      <td>87.712276</td>\n",
       "      <td>23.920554</td>\n",
       "      <td>...</td>\n",
       "      <td>7.644488</td>\n",
       "      <td>9.372318</td>\n",
       "      <td>8.501873</td>\n",
       "      <td>10.427978</td>\n",
       "      <td>7.983101</td>\n",
       "      <td>7.759376</td>\n",
       "      <td>9.780635</td>\n",
       "      <td>0.129650</td>\n",
       "      <td>0.0</td>\n",
       "      <td>0.0</td>\n",
       "    </tr>\n",
       "    <tr>\n",
       "      <th>std</th>\n",
       "      <td>12964.956624</td>\n",
       "      <td>24314.884658</td>\n",
       "      <td>31845.439082</td>\n",
       "      <td>36729.739133</td>\n",
       "      <td>25760.828774</td>\n",
       "      <td>13.964867</td>\n",
       "      <td>13.760952</td>\n",
       "      <td>22.824511</td>\n",
       "      <td>8.422650</td>\n",
       "      <td>15.502479</td>\n",
       "      <td>...</td>\n",
       "      <td>17.205385</td>\n",
       "      <td>18.186605</td>\n",
       "      <td>7.223863</td>\n",
       "      <td>8.165255</td>\n",
       "      <td>17.640868</td>\n",
       "      <td>17.159052</td>\n",
       "      <td>7.991063</td>\n",
       "      <td>0.417803</td>\n",
       "      <td>0.0</td>\n",
       "      <td>0.0</td>\n",
       "    </tr>\n",
       "    <tr>\n",
       "      <th>min</th>\n",
       "      <td>12.000000</td>\n",
       "      <td>7622.000000</td>\n",
       "      <td>0.001000</td>\n",
       "      <td>0.001000</td>\n",
       "      <td>0.001000</td>\n",
       "      <td>0.000000</td>\n",
       "      <td>0.000000</td>\n",
       "      <td>0.000000</td>\n",
       "      <td>14.100000</td>\n",
       "      <td>0.000000</td>\n",
       "      <td>...</td>\n",
       "      <td>0.000000</td>\n",
       "      <td>0.000000</td>\n",
       "      <td>0.000000</td>\n",
       "      <td>0.000000</td>\n",
       "      <td>0.000000</td>\n",
       "      <td>0.000000</td>\n",
       "      <td>0.000000</td>\n",
       "      <td>0.000000</td>\n",
       "      <td>0.0</td>\n",
       "      <td>0.0</td>\n",
       "    </tr>\n",
       "    <tr>\n",
       "      <th>25%</th>\n",
       "      <td>1110.000000</td>\n",
       "      <td>43830.250000</td>\n",
       "      <td>0.001000</td>\n",
       "      <td>0.001000</td>\n",
       "      <td>46250.000000</td>\n",
       "      <td>0.000000</td>\n",
       "      <td>1.000000</td>\n",
       "      <td>70.600000</td>\n",
       "      <td>83.900000</td>\n",
       "      <td>13.400000</td>\n",
       "      <td>...</td>\n",
       "      <td>0.000000</td>\n",
       "      <td>0.000000</td>\n",
       "      <td>4.000000</td>\n",
       "      <td>5.000000</td>\n",
       "      <td>0.000000</td>\n",
       "      <td>0.000000</td>\n",
       "      <td>4.600000</td>\n",
       "      <td>0.000000</td>\n",
       "      <td>0.0</td>\n",
       "      <td>0.0</td>\n",
       "    </tr>\n",
       "    <tr>\n",
       "      <th>50%</th>\n",
       "      <td>3353.500000</td>\n",
       "      <td>54370.500000</td>\n",
       "      <td>0.001000</td>\n",
       "      <td>0.001000</td>\n",
       "      <td>56477.000000</td>\n",
       "      <td>1.000000</td>\n",
       "      <td>3.200000</td>\n",
       "      <td>88.500000</td>\n",
       "      <td>89.700000</td>\n",
       "      <td>19.600000</td>\n",
       "      <td>...</td>\n",
       "      <td>0.001000</td>\n",
       "      <td>0.001000</td>\n",
       "      <td>6.900000</td>\n",
       "      <td>8.600000</td>\n",
       "      <td>0.001000</td>\n",
       "      <td>0.001000</td>\n",
       "      <td>8.200000</td>\n",
       "      <td>0.000000</td>\n",
       "      <td>0.0</td>\n",
       "      <td>0.0</td>\n",
       "    </tr>\n",
       "    <tr>\n",
       "      <th>75%</th>\n",
       "      <td>12469.750000</td>\n",
       "      <td>68452.000000</td>\n",
       "      <td>29222.750000</td>\n",
       "      <td>46932.000000</td>\n",
       "      <td>71352.500000</td>\n",
       "      <td>5.500000</td>\n",
       "      <td>8.675000</td>\n",
       "      <td>95.400000</td>\n",
       "      <td>93.700000</td>\n",
       "      <td>30.300000</td>\n",
       "      <td>...</td>\n",
       "      <td>8.400000</td>\n",
       "      <td>11.100000</td>\n",
       "      <td>11.000000</td>\n",
       "      <td>13.500000</td>\n",
       "      <td>8.000000</td>\n",
       "      <td>7.700000</td>\n",
       "      <td>12.600000</td>\n",
       "      <td>0.000000</td>\n",
       "      <td>0.0</td>\n",
       "      <td>0.0</td>\n",
       "    </tr>\n",
       "    <tr>\n",
       "      <th>max</th>\n",
       "      <td>114989.000000</td>\n",
       "      <td>250001.000000</td>\n",
       "      <td>250001.000000</td>\n",
       "      <td>250001.000000</td>\n",
       "      <td>250001.000000</td>\n",
       "      <td>100.000000</td>\n",
       "      <td>100.000000</td>\n",
       "      <td>100.000000</td>\n",
       "      <td>99.900000</td>\n",
       "      <td>93.900000</td>\n",
       "      <td>...</td>\n",
       "      <td>100.000000</td>\n",
       "      <td>100.000000</td>\n",
       "      <td>100.000000</td>\n",
       "      <td>100.000000</td>\n",
       "      <td>100.000000</td>\n",
       "      <td>100.000000</td>\n",
       "      <td>100.000000</td>\n",
       "      <td>6.000000</td>\n",
       "      <td>0.0</td>\n",
       "      <td>0.0</td>\n",
       "    </tr>\n",
       "  </tbody>\n",
       "</table>\n",
       "<p>8 rows × 50 columns</p>\n",
       "</div>"
      ],
      "text/plain": [
       "       S0101_C01_001E  S1903_C03_001E  S1903_C03_003E  S1903_C03_009E  \\\n",
       "count    25538.000000    25538.000000    25538.000000    25538.000000   \n",
       "mean      9333.853277    59435.926423    17522.442478    25278.296805   \n",
       "std      12964.956624    24314.884658    31845.439082    36729.739133   \n",
       "min         12.000000     7622.000000        0.001000        0.001000   \n",
       "25%       1110.000000    43830.250000        0.001000        0.001000   \n",
       "50%       3353.500000    54370.500000        0.001000        0.001000   \n",
       "75%      12469.750000    68452.000000    29222.750000    46932.000000   \n",
       "max     114989.000000   250001.000000   250001.000000   250001.000000   \n",
       "\n",
       "       S1903_C03_010E   DP05_0078PE   DP05_0071PE   DP05_0077PE   DP02_0066PE  \\\n",
       "count    25538.000000  25538.000000  25538.000000  25538.000000  25538.000000   \n",
       "mean     61307.619095      6.640684      8.175170     79.189126     87.712276   \n",
       "std      25760.828774     13.964867     13.760952     22.824511      8.422650   \n",
       "min          0.001000      0.000000      0.000000      0.000000     14.100000   \n",
       "25%      46250.000000      0.000000      1.000000     70.600000     83.900000   \n",
       "50%      56477.000000      1.000000      3.200000     88.500000     89.700000   \n",
       "75%      71352.500000      5.500000      8.675000     95.400000     93.700000   \n",
       "max     250001.000000    100.000000    100.000000    100.000000     99.900000   \n",
       "\n",
       "        DP02_0067PE  ...  S2802_C05_006E  S2802_C05_012E  S2802_C05_013E  \\\n",
       "count  25538.000000  ...    25538.000000    25538.000000    25538.000000   \n",
       "mean      23.920554  ...        7.644488        9.372318        8.501873   \n",
       "std       15.502479  ...       17.205385       18.186605        7.223863   \n",
       "min        0.000000  ...        0.000000        0.000000        0.000000   \n",
       "25%       13.400000  ...        0.000000        0.000000        4.000000   \n",
       "50%       19.600000  ...        0.001000        0.001000        6.900000   \n",
       "75%       30.300000  ...        8.400000       11.100000       11.000000   \n",
       "max       93.900000  ...      100.000000      100.000000      100.000000   \n",
       "\n",
       "       S2802_C07_001E  S2802_C07_006E  S2802_C07_012E  S2802_C07_013E  \\\n",
       "count    25538.000000    25538.000000    25538.000000    25538.000000   \n",
       "mean        10.427978        7.983101        7.759376        9.780635   \n",
       "std          8.165255       17.640868       17.159052        7.991063   \n",
       "min          0.000000        0.000000        0.000000        0.000000   \n",
       "25%          5.000000        0.000000        0.000000        4.600000   \n",
       "50%          8.600000        0.001000        0.001000        8.200000   \n",
       "75%         13.500000        8.000000        7.700000       12.600000   \n",
       "max        100.000000      100.000000      100.000000      100.000000   \n",
       "\n",
       "       deadly_encounter      poc   bi_poc  \n",
       "count      25538.000000  25538.0  25538.0  \n",
       "mean           0.129650      0.0      0.0  \n",
       "std            0.417803      0.0      0.0  \n",
       "min            0.000000      0.0      0.0  \n",
       "25%            0.000000      0.0      0.0  \n",
       "50%            0.000000      0.0      0.0  \n",
       "75%            0.000000      0.0      0.0  \n",
       "max            6.000000      0.0      0.0  \n",
       "\n",
       "[8 rows x 50 columns]"
      ]
     },
     "execution_count": 67,
     "metadata": {},
     "output_type": "execute_result"
    }
   ],
   "source": [
    "non_deadly.describe()"
   ]
  },
  {
   "cell_type": "code",
   "execution_count": 60,
   "metadata": {},
   "outputs": [],
   "source": [
    "with open('df.pickle', 'wb') as to_write:\n",
    "    pickle.dump(df, to_write)"
   ]
  },
  {
   "cell_type": "markdown",
   "metadata": {},
   "source": [
    "Finally export data to csv for SQL component"
   ]
  },
  {
   "cell_type": "code",
   "execution_count": 61,
   "metadata": {},
   "outputs": [],
   "source": [
    "df.to_csv(r'deadly_encounter_p3.csv', index=False)"
   ]
  }
 ],
 "metadata": {
  "kernelspec": {
   "display_name": "Python 3",
   "language": "python",
   "name": "python3"
  },
  "language_info": {
   "codemirror_mode": {
    "name": "ipython",
    "version": 3
   },
   "file_extension": ".py",
   "mimetype": "text/x-python",
   "name": "python",
   "nbconvert_exporter": "python",
   "pygments_lexer": "ipython3",
   "version": "3.8.3"
  }
 },
 "nbformat": 4,
 "nbformat_minor": 4
}
