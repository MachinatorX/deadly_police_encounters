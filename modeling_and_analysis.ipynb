{
 "cells": [
  {
   "cell_type": "markdown",
   "metadata": {},
   "source": [
    "# Deadly Police Encounters - Modeling and Analysis\n",
    "\n",
    "Amanda Cheney  \n",
    "Metis Project 3  \n",
    "Part 2 of 2  \n",
    "October 28, 2020  "
   ]
  },
  {
   "cell_type": "markdown",
   "metadata": {},
   "source": [
    "**Objective** \n",
    "\n",
    "Build a classification model that can identify where deadly encounters are likely to happen based on socio-economic characteristics of the communities in which they occur. \n",
    "\n",
    "**Data Sources** \n",
    "\n",
    "The [Mapping Police Violence](https://mappingpoliceviolence.org/) project which has data on all deadly police encounters nationwide that including information about the precise location of the killing as well as information about the victim’s race. \n",
    "\n",
    "[American Community Survey Data](https://www.census.gov/programs-surveys/acs) from the US Census Bureau which has data on key socio-economic indicators like education, unemployment, rates of health insurance coverage, use of food stamps, computer ownership and access to the internet – nearly all of which the ACS offers data on by racial/ ethnic categories.  \n",
    "\n",
    "Since the Mapping Police Violence data has zip code information for its entire dataset of all deadly encounters – my observations are individual zip codes. So for all zip codes in entire the United States, my model seeks to explain which zip codes have deadly encounters in which people of color are killed by police and which zip codes do not by comparing their socio-economic characteristics.  \n",
    "\n",
    "**Note**: I have retained the original ACS codes for all of my features throughout this notebook until the section on feature importance where I provide descriptions of the top 10 most important features. For interpreation of all other feature variables, please consult the Project 3 Codebook file."
   ]
  },
  {
   "cell_type": "markdown",
   "metadata": {},
   "source": [
    "## Imports"
   ]
  },
  {
   "cell_type": "code",
   "execution_count": 1,
   "metadata": {},
   "outputs": [],
   "source": [
    "import pandas as pd\n",
    "import numpy as np\n",
    "import seaborn as sns\n",
    "import pickle\n",
    "import statistics\n",
    "\n",
    "import matplotlib.pyplot as plt\n",
    "from matplotlib.pyplot import figure\n",
    "\n",
    "from sklearn.preprocessing import StandardScaler\n",
    "from sklearn.model_selection import train_test_split, KFold, cross_val_score, StratifiedKFold\n",
    "from sklearn.neighbors import KNeighborsClassifier\n",
    "from sklearn.linear_model import LogisticRegression\n",
    "from sklearn.ensemble import RandomForestClassifier\n",
    "from sklearn.svm import SVC\n",
    "from sklearn.naive_bayes import BernoulliNB\n",
    "\n",
    "from sklearn.pipeline import Pipeline\n",
    "from sklearn.metrics import precision_score, recall_score, accuracy_score, fbeta_score, log_loss, make_scorer\n",
    "from sklearn.metrics import precision_recall_fscore_support as score\n",
    "from sklearn.metrics import roc_auc_score, roc_curve, classification_report, confusion_matrix, auc\n",
    "from sklearn.metrics import fbeta_score\n",
    "from sklearn.metrics import plot_confusion_matrix, plot_roc_curve\n",
    "\n",
    "from imblearn.over_sampling import SMOTE, ADASYN, RandomOverSampler\n",
    "from imblearn.under_sampling import RandomUnderSampler\n",
    "from sklearn.metrics import precision_recall_fscore_support\n",
    "\n",
    "import psycopg2 as pg"
   ]
  },
  {
   "cell_type": "markdown",
   "metadata": {},
   "source": [
    "## Loading the Data from SQL"
   ]
  },
  {
   "cell_type": "code",
   "execution_count": 2,
   "metadata": {},
   "outputs": [],
   "source": [
    "# pip install psycopg2"
   ]
  },
  {
   "cell_type": "code",
   "execution_count": 3,
   "metadata": {},
   "outputs": [],
   "source": [
    "connection_args = {\n",
    "   'host': 'localhost', #connecting to local version of psql\n",
    "    'dbname': 'deadly_encounters_db', #DB connecting to \n",
    "    'port': 5432 #port opened on AWS\n",
    "}\n",
    "connection = pg.connect(**connection_args)"
   ]
  },
  {
   "cell_type": "code",
   "execution_count": 4,
   "metadata": {},
   "outputs": [
    {
     "data": {
      "text/plain": [
       "(28081, 51)"
      ]
     },
     "execution_count": 4,
     "metadata": {},
     "output_type": "execute_result"
    }
   ],
   "source": [
    "query = \"SELECT * from deadly_encounters_zipcodes;\"\n",
    "\n",
    "df_returned = pd.read_sql(query, connection)\n",
    "df_returned.shape"
   ]
  },
  {
   "cell_type": "code",
   "execution_count": 5,
   "metadata": {},
   "outputs": [],
   "source": [
    "df_copy = df_returned.copy()"
   ]
  },
  {
   "cell_type": "code",
   "execution_count": 6,
   "metadata": {},
   "outputs": [
    {
     "data": {
      "text/plain": [
       "Index(['zip_code_tabulation_area', 's0101_c01_001e', 's1903_c03_001e',\n",
       "       's1903_c03_003e', 's1903_c03_009e', 's1903_c03_010e', 'dp05_0078pe',\n",
       "       'dp05_0071pe', 'dp05_0077pe', 'dp02_0066pe', 'dp02_0067pe',\n",
       "       's2701_c03_001e', 's2701_c03_017e', 's2701_c03_023e', 's2701_c03_024e',\n",
       "       's2701_c05_001e', 's2701_c03_038e', 's2701_c03_039e', 's2701_c03_044e',\n",
       "       's2701_c03_045e', 's2701_c03_046e', 's2201_c02_021e', 's2201_c02_022e',\n",
       "       's2201_c04_001e', 's2201_c04_009e', 's2201_c04_013e', 's2201_c04_026e',\n",
       "       's2201_c04_032e', 's2201_c04_033e', 's2201_c02_036e', 's2301_c04_001e',\n",
       "       's2301_c04_006e', 's2301_c04_020e', 's2301_c04_013e', 's2301_c04_019e',\n",
       "       's2301_c04_021e', 's2301_c04_022e', 's2301_c04_023e', 's2301_c04_032e',\n",
       "       's2301_c04_033e', 's2802_c05_001e', 's2802_c05_006e', 's2802_c05_012e',\n",
       "       's2802_c05_013e', 's2802_c07_001e', 's2802_c07_006e', 's2802_c07_012e',\n",
       "       's2802_c07_013e', 'deadly_encounter', 'poc', 'bi_poc'],\n",
       "      dtype='object')"
      ]
     },
     "execution_count": 6,
     "metadata": {},
     "output_type": "execute_result"
    }
   ],
   "source": [
    "df_copy.columns"
   ]
  },
  {
   "cell_type": "code",
   "execution_count": 7,
   "metadata": {},
   "outputs": [],
   "source": [
    "df_copy.rename(str.upper, axis='columns', inplace=True ) # make Census feature names capital again for consistency\n",
    "df_copy.rename(columns={'DEADLY_ENCOUNTER':'deadly_encounter' , 'POC':'poc', 'BI_POC':'bi_poc'}, inplace=True) #lowercase other engineered features"
   ]
  },
  {
   "cell_type": "code",
   "execution_count": 8,
   "metadata": {},
   "outputs": [
    {
     "data": {
      "text/plain": [
       "Index(['ZIP_CODE_TABULATION_AREA', 'S0101_C01_001E', 'S1903_C03_001E',\n",
       "       'S1903_C03_003E', 'S1903_C03_009E', 'S1903_C03_010E', 'DP05_0078PE',\n",
       "       'DP05_0071PE', 'DP05_0077PE', 'DP02_0066PE', 'DP02_0067PE',\n",
       "       'S2701_C03_001E', 'S2701_C03_017E', 'S2701_C03_023E', 'S2701_C03_024E',\n",
       "       'S2701_C05_001E', 'S2701_C03_038E', 'S2701_C03_039E', 'S2701_C03_044E',\n",
       "       'S2701_C03_045E', 'S2701_C03_046E', 'S2201_C02_021E', 'S2201_C02_022E',\n",
       "       'S2201_C04_001E', 'S2201_C04_009E', 'S2201_C04_013E', 'S2201_C04_026E',\n",
       "       'S2201_C04_032E', 'S2201_C04_033E', 'S2201_C02_036E', 'S2301_C04_001E',\n",
       "       'S2301_C04_006E', 'S2301_C04_020E', 'S2301_C04_013E', 'S2301_C04_019E',\n",
       "       'S2301_C04_021E', 'S2301_C04_022E', 'S2301_C04_023E', 'S2301_C04_032E',\n",
       "       'S2301_C04_033E', 'S2802_C05_001E', 'S2802_C05_006E', 'S2802_C05_012E',\n",
       "       'S2802_C05_013E', 'S2802_C07_001E', 'S2802_C07_006E', 'S2802_C07_012E',\n",
       "       'S2802_C07_013E', 'deadly_encounter', 'poc', 'bi_poc'],\n",
       "      dtype='object')"
      ]
     },
     "execution_count": 8,
     "metadata": {},
     "output_type": "execute_result"
    }
   ],
   "source": [
    "df_copy.columns"
   ]
  },
  {
   "cell_type": "code",
   "execution_count": 9,
   "metadata": {},
   "outputs": [
    {
     "data": {
      "text/plain": [
       "(28081, 51)"
      ]
     },
     "execution_count": 9,
     "metadata": {},
     "output_type": "execute_result"
    }
   ],
   "source": [
    "df_copy.shape "
   ]
  },
  {
   "cell_type": "code",
   "execution_count": 10,
   "metadata": {},
   "outputs": [],
   "source": [
    "X = df_copy[['S0101_C01_001E', 'S1903_C03_001E',\n",
    "       'S1903_C03_003E', 'S1903_C03_009E', 'S1903_C03_010E', 'DP05_0078PE',\n",
    "       'DP05_0071PE', 'DP05_0077PE', 'DP02_0066PE', 'DP02_0067PE',\n",
    "       'S2701_C03_001E', 'S2701_C03_017E', 'S2701_C03_023E', 'S2701_C03_024E',\n",
    "        'S2701_C03_038E', 'S2701_C03_039E', 'S2701_C03_044E',\n",
    "       'S2701_C03_045E', 'S2701_C03_046E', 'S2201_C02_021E', \n",
    "       'S2201_C04_001E', 'S2201_C04_009E', 'S2201_C04_013E', 'S2201_C04_026E',\n",
    "       'S2201_C04_032E', 'S2201_C04_033E', 'S2201_C02_036E', 'S2301_C04_001E',\n",
    "       'S2301_C04_006E', 'S2301_C04_020E', 'S2301_C04_013E', 'S2301_C04_019E',\n",
    "       'S2301_C04_021E', 'S2301_C04_022E', 'S2301_C04_023E', 'S2301_C04_032E',\n",
    "       'S2301_C04_033E', 'S2802_C05_001E', 'S2802_C05_006E', 'S2802_C05_012E',\n",
    "       'S2802_C05_013E', 'S2802_C07_001E', 'S2802_C07_006E', 'S2802_C07_012E',\n",
    "       'S2802_C07_013E']]"
   ]
  },
  {
   "cell_type": "code",
   "execution_count": 11,
   "metadata": {},
   "outputs": [
    {
     "data": {
      "text/plain": [
       "(28081, 45)"
      ]
     },
     "execution_count": 11,
     "metadata": {},
     "output_type": "execute_result"
    }
   ],
   "source": [
    "X.shape"
   ]
  },
  {
   "cell_type": "code",
   "execution_count": 12,
   "metadata": {},
   "outputs": [],
   "source": [
    "y = df_copy['bi_poc']"
   ]
  },
  {
   "cell_type": "code",
   "execution_count": 13,
   "metadata": {},
   "outputs": [
    {
     "data": {
      "text/plain": [
       "(28081,)"
      ]
     },
     "execution_count": 13,
     "metadata": {},
     "output_type": "execute_result"
    }
   ],
   "source": [
    "y.shape"
   ]
  },
  {
   "cell_type": "markdown",
   "metadata": {},
   "source": [
    "## Identifying Class Imbalance"
   ]
  },
  {
   "cell_type": "code",
   "execution_count": 14,
   "metadata": {},
   "outputs": [
    {
     "name": "stderr",
     "output_type": "stream",
     "text": [
      "/Users/AmandaCheney/opt/anaconda3/lib/python3.8/site-packages/seaborn/distributions.py:2551: FutureWarning: `distplot` is a deprecated function and will be removed in a future version. Please adapt your code to use either `displot` (a figure-level function with similar flexibility) or `histplot` (an axes-level function for histograms).\n",
      "  warnings.warn(msg, FutureWarning)\n"
     ]
    },
    {
     "data": {
      "image/png": "[encoded data removed]",
      "text/plain": [
       "<Figure size 504x504 with 1 Axes>"
      ]
     },
     "metadata": {},
     "output_type": "display_data"
    }
   ],
   "source": [
    "sns.set_style(\"white\")\n",
    "plt.figure(figsize=(7,7))\n",
    "# plt.xticks(np.arange(2), labels=['No police killings of PoC', 'Police have killed PoC'])\n",
    "\n",
    "plt.xticks(ticks=np.arange(2))\n",
    "distribution = sns.distplot(y, kde=False, bins=2, color='black')\n",
    "distribution.set_xticklabels(labels=['No', 'Yes'], fontdict={'fontsize':12, 'horizontalalignment':'right'})\n",
    "plt.xlabel('Police Killings of People of Color', fontsize=14)\n",
    "plt.ylabel('Number of Zipcodes', fontsize=13)\n",
    "# plt.title(\"Deadly Encounters Happen in a small % of zipcodes\", fontsize=18)\n",
    "plt.savefig('Imbalance');"
   ]
  },
  {
   "cell_type": "markdown",
   "metadata": {},
   "source": [
    "### Implications of Class Imbalance for Model Evaluation  \n",
    "**Importance of Recall**  \n",
    "Only 9% of all US zip codes account for all police killings of people of color between 2013-2020. Therefore I will select the best model based on which model can offer the best recall score for the positive/minority class (where people of color are killed by police). I will put special emphasis on ensuring that recall for the minority class is as high as possible even if  precision is low because compared to the cost of a human life, which economists estimate is $10 million and that person's family would regard as priceless, the cost of falsely identifying a zip code as having a deadly encounter when it does not is several orders of magnitude less important than the cost of falsely predicting that a zip code does not have a deadly encounter when it in fact has. "
   ]
  },
  {
   "cell_type": "markdown",
   "metadata": {},
   "source": [
    "## Train-Test Splitting"
   ]
  },
  {
   "cell_type": "code",
   "execution_count": 15,
   "metadata": {},
   "outputs": [],
   "source": [
    "X_train, X_test, y_train, y_test = train_test_split(X, y, test_size=0.2, random_state=4, stratify=y)"
   ]
  },
  {
   "cell_type": "code",
   "execution_count": 16,
   "metadata": {},
   "outputs": [
    {
     "data": {
      "text/plain": [
       "((22464, 45), (5617, 45))"
      ]
     },
     "execution_count": 16,
     "metadata": {},
     "output_type": "execute_result"
    }
   ],
   "source": [
    "X_train.shape, X_test.shape"
   ]
  },
  {
   "cell_type": "markdown",
   "metadata": {},
   "source": [
    "## Baseline Modelling and Sampler Selection"
   ]
  },
  {
   "cell_type": "markdown",
   "metadata": {},
   "source": [
    "Although EDA has already shown that the classes are very imbalanced, I run a few baseline models without regard for class weight which have deceptively good accuracy despite having very poor recall for the minority class - which is what I am most interested in explaining. I do this to motivate how much improvement I will need to make to build useful model in the following sub-section."
   ]
  },
  {
   "cell_type": "markdown",
   "metadata": {},
   "source": [
    "#### KNN "
   ]
  },
  {
   "cell_type": "code",
   "execution_count": 17,
   "metadata": {},
   "outputs": [
    {
     "name": "stdout",
     "output_type": "stream",
     "text": [
      "Training set:  0.9234330484330484\n",
      "Test set:  0.9173936264910094\n",
      "              precision    recall  f1-score   support\n",
      "\n",
      "         0.0       0.93      0.99      0.96      5108\n",
      "         1.0       0.64      0.21      0.31       509\n",
      "\n",
      "    accuracy                           0.92      5617\n",
      "   macro avg       0.78      0.60      0.63      5617\n",
      "weighted avg       0.90      0.92      0.90      5617\n",
      "\n"
     ]
    }
   ],
   "source": [
    "knn = KNeighborsClassifier(n_neighbors=10, n_jobs=-1)\n",
    "knn.fit(X_train, y_train)\n",
    "y_pred = knn.predict(X_test)\n",
    "print(\"Training set: \", knn.score(X_train, y_train))\n",
    "print(\"Test set: \", knn.score(X_test, y_test))\n",
    "print(classification_report(y_test, y_pred))"
   ]
  },
  {
   "cell_type": "markdown",
   "metadata": {},
   "source": [
    "#### Logistic Regression"
   ]
  },
  {
   "cell_type": "code",
   "execution_count": 18,
   "metadata": {},
   "outputs": [
    {
     "name": "stdout",
     "output_type": "stream",
     "text": [
      "Training set:  0.9193376068376068\n",
      "Test set:  0.9189959052875201\n",
      "              precision    recall  f1-score   support\n",
      "\n",
      "         0.0       0.93      0.98      0.96      5108\n",
      "         1.0       0.62      0.27      0.38       509\n",
      "\n",
      "    accuracy                           0.92      5617\n",
      "   macro avg       0.78      0.63      0.67      5617\n",
      "weighted avg       0.90      0.92      0.90      5617\n",
      "\n"
     ]
    }
   ],
   "source": [
    "log_reg = LogisticRegression(max_iter=5000, n_jobs=-1, random_state=44)\n",
    "log_reg.fit(X_train, y_train)\n",
    "y_pred = log_reg.predict(X_test)\n",
    "print(\"Training set: \", log_reg.score(X_train, y_train))\n",
    "print(\"Test set: \", log_reg.score(X_test, y_test))\n",
    "print(classification_report(y_test, y_pred))"
   ]
  },
  {
   "cell_type": "code",
   "execution_count": 19,
   "metadata": {},
   "outputs": [
    {
     "name": "stdout",
     "output_type": "stream",
     "text": [
      "Training set:  1.0\n",
      "Test set:  0.9222004628805412\n",
      "              precision    recall  f1-score   support\n",
      "\n",
      "         0.0       0.93      0.99      0.96      5108\n",
      "         1.0       0.68      0.27      0.39       509\n",
      "\n",
      "    accuracy                           0.92      5617\n",
      "   macro avg       0.80      0.63      0.67      5617\n",
      "weighted avg       0.91      0.92      0.91      5617\n",
      "\n"
     ]
    }
   ],
   "source": [
    "rfc = RandomForestClassifier(n_jobs = -1, random_state=44)\n",
    "rfc.fit(X_train, y_train)\n",
    "y_pred = rfc.predict(X_test)\n",
    "print(\"Training set: \", rfc.score(X_train, y_train))\n",
    "print(\"Test set: \", rfc.score(X_test, y_test))\n",
    "print(classification_report(y_test, y_pred))"
   ]
  },
  {
   "cell_type": "code",
   "execution_count": 20,
   "metadata": {},
   "outputs": [
    {
     "name": "stdout",
     "output_type": "stream",
     "text": [
      "Training set:  0.796340811965812\n",
      "Test set:  0.7997151504361759\n",
      "              precision    recall  f1-score   support\n",
      "\n",
      "         0.0       0.98      0.80      0.88      5108\n",
      "         1.0       0.29      0.81      0.42       509\n",
      "\n",
      "    accuracy                           0.80      5617\n",
      "   macro avg       0.63      0.80      0.65      5617\n",
      "weighted avg       0.91      0.80      0.84      5617\n",
      "\n"
     ]
    }
   ],
   "source": [
    "bernoulli_nb = BernoulliNB()\n",
    "bernoulli_nb.fit(X_train, y_train)\n",
    "y_pred = bernoulli_nb.predict(X_test)\n",
    "print(\"Training set: \", bernoulli_nb.score(X_train, y_train))\n",
    "print(\"Test set: \", bernoulli_nb.score(X_test, y_test))\n",
    "print(classification_report(y_test, y_pred))"
   ]
  },
  {
   "cell_type": "code",
   "execution_count": 21,
   "metadata": {},
   "outputs": [
    {
     "name": "stdout",
     "output_type": "stream",
     "text": [
      "Training set:  0.912170584045584\n",
      "Test set:  0.9122307281466975\n",
      "              precision    recall  f1-score   support\n",
      "\n",
      "         0.0       0.91      1.00      0.95      5108\n",
      "         1.0       0.75      0.05      0.09       509\n",
      "\n",
      "    accuracy                           0.91      5617\n",
      "   macro avg       0.83      0.52      0.52      5617\n",
      "weighted avg       0.90      0.91      0.88      5617\n",
      "\n"
     ]
    }
   ],
   "source": [
    "svc = SVC(random_state=44)\n",
    "svc.fit(X_train, y_train)\n",
    "y_pred = svc.predict(X_test)\n",
    "print(\"Training set: \", svc.score(X_train, y_train))\n",
    "print(\"Test set: \", svc.score(X_test, y_test))\n",
    "print(classification_report(y_test, y_pred))"
   ]
  },
  {
   "cell_type": "markdown",
   "metadata": {},
   "source": [
    "### Over- and Undersampling\n",
    "Now I run the same models using four different methods of over- and undersampling."
   ]
  },
  {
   "cell_type": "code",
   "execution_count": 22,
   "metadata": {},
   "outputs": [],
   "source": [
    "def baseline_pipeline(X, y, model_name, model, over_under_sampler):\n",
    "    \"\"\" For a given dataset (X,y), classification model, and over- or undersampler,\n",
    "    fits the model to over/ underasampled data, and returns classification reports.\"\"\"\n",
    "    \n",
    "    X_train, X_val, y_train, y_val = train_test_split(X, y, test_size=0.2, random_state=4, stratify=y)\n",
    "    \n",
    "    X_over_under_sampled_train, y_over_under_sampled_train = over_under_sampler.fit_sample(\n",
    "            X_train, y_train)\n",
    "\n",
    "    model.fit(X_over_under_sampled_train, y_over_under_sampled_train)\n",
    "    y_pred = model.predict(X_val)\n",
    "    \n",
    "    print(model_name, \"using\", over_under_sampler,\":\")\n",
    "    print(\"Training set: \", model.score(X_train, y_train))\n",
    "    print(\"Validation set: \", model.score(X_val, y_val))\n",
    "    print(classification_report(y_val, y_pred))    "
   ]
  },
  {
   "cell_type": "code",
   "execution_count": 23,
   "metadata": {},
   "outputs": [],
   "source": [
    "models = {\"KNN\": KNeighborsClassifier(n_neighbors=10, n_jobs=-1),\n",
    "          \"Logistic Reg\": LogisticRegression(max_iter=5000, n_jobs=-1, random_state=44), \n",
    "          \"Random Forest\": RandomForestClassifier(n_jobs = -1, random_state=44),\n",
    "          \"BernoulliNB\": BernoulliNB(),\n",
    "          \"SVC\": SVC(random_state=44)\n",
    "         }"
   ]
  },
  {
   "cell_type": "markdown",
   "metadata": {},
   "source": [
    "#### RandomOverSampler"
   ]
  },
  {
   "cell_type": "code",
   "execution_count": 24,
   "metadata": {},
   "outputs": [
    {
     "name": "stdout",
     "output_type": "stream",
     "text": [
      "KNN using RandomOverSampler(random_state=44) :\n",
      "Training set:  0.8460297145400923\n",
      "Validation set:  0.7883374137547295\n",
      "              precision    recall  f1-score   support\n",
      "\n",
      "         0.0       0.96      0.80      0.87      4086\n",
      "         1.0       0.26      0.70      0.38       407\n",
      "\n",
      "    accuracy                           0.79      4493\n",
      "   macro avg       0.61      0.75      0.62      4493\n",
      "weighted avg       0.90      0.79      0.83      4493\n",
      "\n",
      " \n",
      "Logistic Reg using RandomOverSampler(random_state=44) :\n",
      "Training set:  0.822436147125925\n",
      "Validation set:  0.8097039839750724\n",
      "              precision    recall  f1-score   support\n",
      "\n",
      "         0.0       0.98      0.81      0.89      4086\n",
      "         1.0       0.30      0.82      0.44       407\n",
      "\n",
      "    accuracy                           0.81      4493\n",
      "   macro avg       0.64      0.81      0.66      4493\n",
      "weighted avg       0.92      0.81      0.84      4493\n",
      "\n",
      " \n",
      "Random Forest using RandomOverSampler(random_state=44) :\n",
      "Training set:  1.0\n",
      "Validation set:  0.9138660137992433\n",
      "              precision    recall  f1-score   support\n",
      "\n",
      "         0.0       0.94      0.97      0.95      4086\n",
      "         1.0       0.53      0.39      0.45       407\n",
      "\n",
      "    accuracy                           0.91      4493\n",
      "   macro avg       0.74      0.68      0.70      4493\n",
      "weighted avg       0.90      0.91      0.91      4493\n",
      "\n",
      " \n",
      "BernoulliNB using RandomOverSampler(random_state=44) :\n",
      "Training set:  0.7353513994769351\n",
      "Validation set:  0.7217894502559538\n",
      "              precision    recall  f1-score   support\n",
      "\n",
      "         0.0       0.98      0.71      0.82      4086\n",
      "         1.0       0.23      0.85      0.36       407\n",
      "\n",
      "    accuracy                           0.72      4493\n",
      "   macro avg       0.60      0.78      0.59      4493\n",
      "weighted avg       0.91      0.72      0.78      4493\n",
      "\n",
      " \n",
      "SVC using RandomOverSampler(random_state=44) :\n",
      "Training set:  0.7833175671915864\n",
      "Validation set:  0.7678611172935678\n",
      "              precision    recall  f1-score   support\n",
      "\n",
      "         0.0       0.98      0.76      0.86      4086\n",
      "         1.0       0.26      0.84      0.40       407\n",
      "\n",
      "    accuracy                           0.77      4493\n",
      "   macro avg       0.62      0.80      0.63      4493\n",
      "weighted avg       0.91      0.77      0.81      4493\n",
      "\n",
      " \n"
     ]
    }
   ],
   "source": [
    "for model_name, model in models.items():\n",
    "    baseline_pipeline(X_train, y_train, model_name, model, RandomOverSampler(random_state=44)) # call it on X_train \n",
    "    #so that still not touching actual holdout test data. \n",
    "    print(\" \")"
   ]
  },
  {
   "cell_type": "markdown",
   "metadata": {},
   "source": [
    "Using `RandomOverSampler` recall on the minority class has improved across the board. However, KNN and RandomForest are somwhat overfitting. The best performance so far seems to be from Logistic Regression, Naive Bayes and SVC are all offering strong, comparable recall scores, though Logistic Regression has the best precision of the three. Although recall is by far my most important classification scoring metric (because I want to ensure that I capture as many zipcodes as possible that have deadly police encounters with people of color), I also don't want to incorrectly too many zipcodes as having such deadly encounters that actually don't, if it can be helped."
   ]
  },
  {
   "cell_type": "markdown",
   "metadata": {},
   "source": [
    "#### RandomUnderSampler"
   ]
  },
  {
   "cell_type": "code",
   "execution_count": 25,
   "metadata": {},
   "outputs": [
    {
     "name": "stdout",
     "output_type": "stream",
     "text": [
      "KNN using RandomUnderSampler(random_state=44) :\n",
      "Training set:  0.8059651661009404\n",
      "Validation set:  0.792566214110839\n",
      "              precision    recall  f1-score   support\n",
      "\n",
      "         0.0       0.97      0.79      0.87      4086\n",
      "         1.0       0.28      0.79      0.41       407\n",
      "\n",
      "    accuracy                           0.79      4493\n",
      "   macro avg       0.62      0.79      0.64      4493\n",
      "weighted avg       0.91      0.79      0.83      4493\n",
      "\n",
      " \n",
      "Logistic Reg using RandomUnderSampler(random_state=44) :\n",
      "Training set:  0.8174837237771966\n",
      "Validation set:  0.8039172045403962\n",
      "              precision    recall  f1-score   support\n",
      "\n",
      "         0.0       0.98      0.80      0.88      4086\n",
      "         1.0       0.29      0.82      0.43       407\n",
      "\n",
      "    accuracy                           0.80      4493\n",
      "   macro avg       0.64      0.81      0.66      4493\n",
      "weighted avg       0.92      0.80      0.84      4493\n",
      "\n",
      " \n",
      "Random Forest using RandomUnderSampler(random_state=44) :\n",
      "Training set:  0.8518168159813032\n",
      "Validation set:  0.8059203204985533\n",
      "              precision    recall  f1-score   support\n",
      "\n",
      "         0.0       0.98      0.81      0.88      4086\n",
      "         1.0       0.29      0.81      0.43       407\n",
      "\n",
      "    accuracy                           0.81      4493\n",
      "   macro avg       0.63      0.81      0.66      4493\n",
      "weighted avg       0.91      0.81      0.84      4493\n",
      "\n",
      " \n",
      "BernoulliNB using RandomUnderSampler(random_state=44) :\n",
      "Training set:  0.732958655611819\n",
      "Validation set:  0.7188960605386157\n",
      "              precision    recall  f1-score   support\n",
      "\n",
      "         0.0       0.98      0.71      0.82      4086\n",
      "         1.0       0.22      0.84      0.35       407\n",
      "\n",
      "    accuracy                           0.72      4493\n",
      "   macro avg       0.60      0.77      0.59      4493\n",
      "weighted avg       0.91      0.72      0.78      4493\n",
      "\n",
      " \n",
      "SVC using RandomUnderSampler(random_state=44) :\n",
      "Training set:  0.7795893383784986\n",
      "Validation set:  0.765190296016025\n",
      "              precision    recall  f1-score   support\n",
      "\n",
      "         0.0       0.98      0.76      0.85      4086\n",
      "         1.0       0.26      0.84      0.39       407\n",
      "\n",
      "    accuracy                           0.77      4493\n",
      "   macro avg       0.62      0.80      0.62      4493\n",
      "weighted avg       0.91      0.77      0.81      4493\n",
      "\n",
      " \n"
     ]
    }
   ],
   "source": [
    "for model_name, model in models.items():\n",
    "    baseline_pipeline(X_train, y_train, model_name, model, RandomUnderSampler(random_state=44))\n",
    "    print(\" \")"
   ]
  },
  {
   "cell_type": "markdown",
   "metadata": {},
   "source": [
    "Using `RandomUnderSampler` overfittting is less of an issue for KNN and Random Forest than was the case with RandomOverSampler. However, the results are otherwise relatively comparable  with RandomOverSampler for Logistic Regression, Bernoulli Naive Bayes and Random Forest. "
   ]
  },
  {
   "cell_type": "markdown",
   "metadata": {},
   "source": [
    "#### SMOTE"
   ]
  },
  {
   "cell_type": "code",
   "execution_count": 26,
   "metadata": {},
   "outputs": [
    {
     "name": "stdout",
     "output_type": "stream",
     "text": [
      "KNN using SMOTE(random_state=44) :\n",
      "Training set:  0.8594402092259752\n",
      "Validation set:  0.8041397729801915\n",
      "              precision    recall  f1-score   support\n",
      "\n",
      "         0.0       0.96      0.82      0.88      4086\n",
      "         1.0       0.27      0.69      0.39       407\n",
      "\n",
      "    accuracy                           0.80      4493\n",
      "   macro avg       0.62      0.75      0.64      4493\n",
      "weighted avg       0.90      0.80      0.84      4493\n",
      "\n",
      " \n",
      "Logistic Reg using SMOTE(random_state=44) :\n",
      "Training set:  0.8226030827444216\n",
      "Validation set:  0.8117070999332294\n",
      "              precision    recall  f1-score   support\n",
      "\n",
      "         0.0       0.98      0.81      0.89      4086\n",
      "         1.0       0.30      0.81      0.44       407\n",
      "\n",
      "    accuracy                           0.81      4493\n",
      "   macro avg       0.64      0.81      0.66      4493\n",
      "weighted avg       0.92      0.81      0.85      4493\n",
      "\n",
      " \n",
      "Random Forest using SMOTE(random_state=44) :\n",
      "Training set:  1.0\n",
      "Validation set:  0.8775873581126197\n",
      "              precision    recall  f1-score   support\n",
      "\n",
      "         0.0       0.96      0.91      0.93      4086\n",
      "         1.0       0.39      0.60      0.47       407\n",
      "\n",
      "    accuracy                           0.88      4493\n",
      "   macro avg       0.67      0.75      0.70      4493\n",
      "weighted avg       0.91      0.88      0.89      4493\n",
      "\n",
      " \n",
      "BernoulliNB using SMOTE(random_state=44) :\n",
      "Training set:  0.7759723999777419\n",
      "Validation set:  0.7571778321833964\n",
      "              precision    recall  f1-score   support\n",
      "\n",
      "         0.0       0.97      0.75      0.85      4086\n",
      "         1.0       0.24      0.79      0.37       407\n",
      "\n",
      "    accuracy                           0.76      4493\n",
      "   macro avg       0.61      0.77      0.61      4493\n",
      "weighted avg       0.91      0.76      0.81      4493\n",
      "\n",
      " \n",
      "SVC using SMOTE(random_state=44) :\n",
      "Training set:  0.7916643481164097\n",
      "Validation set:  0.7760961495659915\n",
      "              precision    recall  f1-score   support\n",
      "\n",
      "         0.0       0.98      0.77      0.86      4086\n",
      "         1.0       0.27      0.84      0.40       407\n",
      "\n",
      "    accuracy                           0.78      4493\n",
      "   macro avg       0.62      0.80      0.63      4493\n",
      "weighted avg       0.92      0.78      0.82      4493\n",
      "\n",
      " \n"
     ]
    }
   ],
   "source": [
    "for model_name, model in models.items():\n",
    "    baseline_pipeline(X_train, y_train, model_name, model, SMOTE(random_state=44))\n",
    "    print(\" \")"
   ]
  },
  {
   "cell_type": "markdown",
   "metadata": {},
   "source": [
    "Using SMOTE to oversample the minority class we see overfitting problems once again with KNN and DecisionTree. Here SVC has the best recall followed closely by Logistic Regression."
   ]
  },
  {
   "cell_type": "markdown",
   "metadata": {},
   "source": [
    "#### ADASYN"
   ]
  },
  {
   "cell_type": "code",
   "execution_count": 27,
   "metadata": {},
   "outputs": [
    {
     "name": "stdout",
     "output_type": "stream",
     "text": [
      "KNN using ADASYN(random_state=44) :\n",
      "Training set:  0.8452506816537755\n",
      "Validation set:  0.7912308034720676\n",
      "              precision    recall  f1-score   support\n",
      "\n",
      "         0.0       0.97      0.80      0.87      4086\n",
      "         1.0       0.26      0.72      0.38       407\n",
      "\n",
      "    accuracy                           0.79      4493\n",
      "   macro avg       0.61      0.76      0.63      4493\n",
      "weighted avg       0.90      0.79      0.83      4493\n",
      "\n",
      " \n",
      "Logistic Reg using ADASYN(random_state=44) :\n",
      "Training set:  0.8024038729063491\n",
      "Validation set:  0.7894502559537058\n",
      "              precision    recall  f1-score   support\n",
      "\n",
      "         0.0       0.98      0.78      0.87      4086\n",
      "         1.0       0.28      0.84      0.42       407\n",
      "\n",
      "    accuracy                           0.79      4493\n",
      "   macro avg       0.63      0.81      0.65      4493\n",
      "weighted avg       0.92      0.79      0.83      4493\n",
      "\n",
      " \n",
      "Random Forest using ADASYN(random_state=44) :\n",
      "Training set:  1.0\n",
      "Validation set:  0.875139105274872\n",
      "              precision    recall  f1-score   support\n",
      "\n",
      "         0.0       0.96      0.90      0.93      4086\n",
      "         1.0       0.38      0.62      0.47       407\n",
      "\n",
      "    accuracy                           0.88      4493\n",
      "   macro avg       0.67      0.76      0.70      4493\n",
      "weighted avg       0.91      0.88      0.89      4493\n",
      "\n",
      " \n",
      "BernoulliNB using ADASYN(random_state=44) :\n",
      "Training set:  0.7707973958043515\n",
      "Validation set:  0.7522813265079011\n",
      "              precision    recall  f1-score   support\n",
      "\n",
      "         0.0       0.97      0.75      0.85      4086\n",
      "         1.0       0.24      0.80      0.37       407\n",
      "\n",
      "    accuracy                           0.75      4493\n",
      "   macro avg       0.61      0.78      0.61      4493\n",
      "weighted avg       0.91      0.75      0.80      4493\n",
      "\n",
      " \n",
      "SVC using ADASYN(random_state=44) :\n",
      "Training set:  0.7643981970953202\n",
      "Validation set:  0.7491653683507679\n",
      "              precision    recall  f1-score   support\n",
      "\n",
      "         0.0       0.98      0.74      0.84      4086\n",
      "         1.0       0.25      0.87      0.39       407\n",
      "\n",
      "    accuracy                           0.75      4493\n",
      "   macro avg       0.62      0.80      0.61      4493\n",
      "weighted avg       0.92      0.75      0.80      4493\n",
      "\n",
      " \n"
     ]
    }
   ],
   "source": [
    "for model_name, model in models.items():\n",
    "    baseline_pipeline(X_train, y_train, model_name, model, ADASYN(random_state=44))\n",
    "    print(\" \")"
   ]
  },
  {
   "cell_type": "markdown",
   "metadata": {},
   "source": [
    "Results here are relatively comparable with SMOTE and RandomOverSampler, however, ADASYN has given even better performance to SVC, Logistic Regression and Naive Bayes. At this point I decide to eliminate Random Forest and KNN as potential models. RandomForest only performs well on undersampled data, which isn't ideal because it means I don't get to train the model on as much of the data as I otherwise could, and even then is prone to overfitting and KNN simply doesn't perfom as well as the remaining three. As for over- and undersampling techniques, I get the highest recall scores using `RandomOverSampler` and `ADASYN`, so I will continue to narrow down my model selection using only these two oversamping techniques. "
   ]
  },
  {
   "cell_type": "markdown",
   "metadata": {},
   "source": [
    "## Narrowing Down Model Selection  \n",
    "### Classification Scoring Metrics"
   ]
  },
  {
   "cell_type": "markdown",
   "metadata": {},
   "source": [
    "Now that I have eliminated Random Forest and KNN as potential models, I look to see how well Logistic Regression, Bernoulli Naive Bayes and SVC perform when I begin to bring in more refined classification scoring metrics starting with f_beta which allows me to calculate model accuracy while accounting for the relative importance of recall compared to precision. In my case I want to use a very high beta of at least 10 because recall is at least 10 times more important than precision in this context where we are predicting where a human life may be lost. I also deploy StandardScaler to prepare for trying different regularization techniques. "
   ]
  },
  {
   "cell_type": "code",
   "execution_count": 28,
   "metadata": {},
   "outputs": [],
   "source": [
    "def average_metrics_pipeline(X, y, model_name, model, over_under_sampler, beta_value=10):\n",
    "    \"\"\" For a given dataset (X,y), classification model, and over- or undersampler,\n",
    "    fits the model to over/ underasampled data, and returns the weighted average \n",
    "    values for accuracy, precision, recall and fbeta classfication scoring metrics \n",
    "    across 5 cross-validated folds.\"\"\"\n",
    "\n",
    "    # setting up k-folds and dictionaries to hold results\n",
    "    kf = StratifiedKFold(n_splits=5, shuffle=True, random_state=44)\n",
    "    cv_accuracy = []\n",
    "    cv_precision = []\n",
    "    cv_recall = []\n",
    "    cv_fbeta = []\n",
    "\n",
    "    # Render X and Y as np.arrays in order to generate indices for use with k-fold splitting\n",
    "    # in order to manually keep track of which indices are being split into training/validation \n",
    "    # sets so I can over/ undersample only to the training set, which is then used to fit model\n",
    "    X = np.array(X)\n",
    "    y = np.array(y)\n",
    "    \n",
    "    for train_ind, val_ind in kf.split(X, y):\n",
    "\n",
    "        X_train, y_train = X[train_ind], y[train_ind]\n",
    "        X_over_under_sampled_train, y_over_under_sampled_train = over_under_sampler.fit_sample(\n",
    "            X_train, y_train)\n",
    "        X_val, y_val = X[val_ind], y[val_ind]\n",
    "        \n",
    "        std_scale = StandardScaler()\n",
    "        X_over_under_sampled_train = std_scale.fit_transform(X_over_under_sampled_train)\n",
    "        X_val = std_scale.transform(X_val)\n",
    "        \n",
    "        model.fit(X_over_under_sampled_train, np.array(\n",
    "            y_over_under_sampled_train).ravel())\n",
    "        y_pred = model.predict(X_val)\n",
    "            \n",
    "        # find average scoring metrics for the minority/positive class \n",
    "#         from sklearn.metrics import precision_recall_fscore_support\n",
    "        accuracy = accuracy_score(y_val, y_pred)\n",
    "        precision = precision_score(y_val, y_pred)\n",
    "        recall = recall_score(y_val, y_pred)\n",
    "        fbeta = fbeta_score(y_val, y_pred, beta=beta_value)\n",
    "\n",
    "        cv_accuracy.append(accuracy)\n",
    "        cv_precision.append(precision)\n",
    "        cv_recall.append(recall)\n",
    "        cv_fbeta.append(fbeta)\n",
    "\n",
    "    # calculate means and standard deviations for each metric across all 5 kfolds \n",
    "    cv_recall = \"Recall: {:.3f} +/- {:.3f}\".format(statistics.mean(\n",
    "        cv_recall), statistics.variance(cv_recall))\n",
    "    cv_precision = \"Precision: {:.3f} +/- {:.3f}\".format(statistics.mean(\n",
    "        cv_precision), statistics.variance(cv_precision))\n",
    "    cv_fbeta = \"F-beta Score: {:.3f} +/- {:.3f}\".format(\n",
    "        statistics.mean(cv_fbeta), statistics.variance(cv_fbeta))\n",
    "    cv_accuracy = \"Accuracy: {:.3f} +/- {:.3f}\".format(statistics.mean(\n",
    "        cv_accuracy), statistics.variance(cv_accuracy))    \n",
    "\n",
    "    print(model_name, \":\")\n",
    "    print(\"Model score on training set: {:.3f}\".format(model.score(X_over_under_sampled_train, y_over_under_sampled_train)))\n",
    "    print(\"Model score on validation set: {:.3f}\".format(model.score(X_val, y_val)))\n",
    "    print(cv_recall)\n",
    "    print(cv_precision)\n",
    "    print(cv_fbeta)\n",
    "    print(cv_accuracy)"
   ]
  },
  {
   "cell_type": "code",
   "execution_count": 29,
   "metadata": {},
   "outputs": [],
   "source": [
    "models = {\"Logistic Reg\": LogisticRegression(max_iter=5000, random_state=44, n_jobs=-1), \n",
    "          \"BernoulliNB\": BernoulliNB(),\n",
    "          \"SVC\": SVC(random_state=44),\n",
    "         }"
   ]
  },
  {
   "cell_type": "markdown",
   "metadata": {},
   "source": [
    "### F-beta = 10 and RandomOverSampler"
   ]
  },
  {
   "cell_type": "code",
   "execution_count": 30,
   "metadata": {},
   "outputs": [
    {
     "name": "stdout",
     "output_type": "stream",
     "text": [
      "Using random oversampling. All classification scoring metrics below are for the positive class, which in\n",
      "this case is also the minority class.\n",
      "\n",
      "Logistic Reg :\n",
      "Model score on training set: 0.833\n",
      "Model score on validation set: 0.823\n",
      "Recall: 0.841 +/- 0.000\n",
      "Precision: 0.312 +/- 0.000\n",
      "F-beta Score: 0.827 +/- 0.000\n",
      "Accuracy: 0.817 +/- 0.000\n",
      " \n",
      "BernoulliNB :\n",
      "Model score on training set: 0.781\n",
      "Model score on validation set: 0.792\n",
      "Recall: 0.758 +/- 0.001\n",
      "Precision: 0.267 +/- 0.000\n",
      "F-beta Score: 0.745 +/- 0.001\n",
      "Accuracy: 0.790 +/- 0.000\n",
      " \n",
      "SVC :\n",
      "Model score on training set: 0.900\n",
      "Model score on validation set: 0.830\n",
      "Recall: 0.810 +/- 0.000\n",
      "Precision: 0.321 +/- 0.000\n",
      "F-beta Score: 0.798 +/- 0.000\n",
      "Accuracy: 0.827 +/- 0.000\n",
      " \n"
     ]
    }
   ],
   "source": [
    "print(\"Using random oversampling. All classification scoring metrics below are for the positive class, which in\" \"\\n\"\n",
    "\"this case is also the minority class.\\n\")\n",
    "for model_name, model in models.items():\n",
    "    average_metrics_pipeline(X_train, y_train, model_name, model, RandomOverSampler(random_state=44)) # trying w/\n",
    "    # default beta = 10 \n",
    "    print(\" \")"
   ]
  },
  {
   "cell_type": "markdown",
   "metadata": {},
   "source": [
    "### F-beta = 20 and RandomOverSampler"
   ]
  },
  {
   "cell_type": "code",
   "execution_count": 31,
   "metadata": {},
   "outputs": [
    {
     "name": "stdout",
     "output_type": "stream",
     "text": [
      "Using random oversampling. All classification scoring metrics below are for the positive class, which in\n",
      "this case is also the minority class.\n",
      "Logistic Reg :\n",
      "Model score on training set: 0.833\n",
      "Model score on validation set: 0.823\n",
      "Recall: 0.841 +/- 0.000\n",
      "Precision: 0.312 +/- 0.000\n",
      "F-beta Score: 0.838 +/- 0.000\n",
      "Accuracy: 0.817 +/- 0.000\n",
      " \n",
      "BernoulliNB :\n",
      "Model score on training set: 0.781\n",
      "Model score on validation set: 0.792\n",
      "Recall: 0.758 +/- 0.001\n",
      "Precision: 0.267 +/- 0.000\n",
      "F-beta Score: 0.755 +/- 0.001\n",
      "Accuracy: 0.790 +/- 0.000\n",
      " \n",
      "SVC :\n",
      "Model score on training set: 0.900\n",
      "Model score on validation set: 0.830\n",
      "Recall: 0.810 +/- 0.000\n",
      "Precision: 0.321 +/- 0.000\n",
      "F-beta Score: 0.807 +/- 0.000\n",
      "Accuracy: 0.827 +/- 0.000\n",
      " \n"
     ]
    }
   ],
   "source": [
    "print(\"Using random oversampling. All classification scoring metrics below are for the positive class, which in\" \"\\n\"\n",
    "\"this case is also the minority class.\")\n",
    "for model_name, model in models.items():\n",
    "    average_metrics_pipeline(X_train, y_train, model_name, model, RandomOverSampler(random_state=44), 20)\n",
    "    print(\" \")"
   ]
  },
  {
   "cell_type": "markdown",
   "metadata": {},
   "source": [
    "Moving from beta = 10 to beta = 20 only gives marginally better f-beta scores. But having now scaled my data Logistic Regression is outperforming both SVC and Bernoulli Naive Bayes on recall. SVC is also starting to overfit. "
   ]
  },
  {
   "cell_type": "markdown",
   "metadata": {},
   "source": [
    "### F-beta = 10 and ADASYN"
   ]
  },
  {
   "cell_type": "code",
   "execution_count": 32,
   "metadata": {},
   "outputs": [
    {
     "name": "stdout",
     "output_type": "stream",
     "text": [
      "Using ADASYN. All classification scoring metrics below are for the positive class, which in\n",
      "this case is also the minority class.\n",
      "Logistic Reg :\n",
      "Model score on training set: 0.818\n",
      "Model score on validation set: 0.807\n",
      "Recall: 0.859 +/- 0.000\n",
      "Precision: 0.294 +/- 0.000\n",
      "F-beta Score: 0.843 +/- 0.000\n",
      "Accuracy: 0.800 +/- 0.000\n",
      " \n",
      "BernoulliNB :\n",
      "Model score on training set: 0.771\n",
      "Model score on validation set: 0.788\n",
      "Recall: 0.781 +/- 0.000\n",
      "Precision: 0.264 +/- 0.000\n",
      "F-beta Score: 0.766 +/- 0.000\n",
      "Accuracy: 0.783 +/- 0.000\n",
      " \n",
      "SVC :\n",
      "Model score on training set: 0.907\n",
      "Model score on validation set: 0.828\n",
      "Recall: 0.783 +/- 0.000\n",
      "Precision: 0.323 +/- 0.000\n",
      "F-beta Score: 0.772 +/- 0.000\n",
      "Accuracy: 0.832 +/- 0.000\n",
      " \n"
     ]
    }
   ],
   "source": [
    "print(\"Using ADASYN. All classification scoring metrics below are for the positive class, which in\" \"\\n\"\n",
    "\"this case is also the minority class.\")\n",
    "for model_name, model in models.items():\n",
    "    average_metrics_pipeline(X_train, y_train, model_name, model, ADASYN(random_state=44)) # try w/ defaul beta=10 \n",
    "    print(\" \")"
   ]
  },
  {
   "cell_type": "markdown",
   "metadata": {},
   "source": [
    "### F-beta = 20 and ADASYN"
   ]
  },
  {
   "cell_type": "code",
   "execution_count": 33,
   "metadata": {},
   "outputs": [
    {
     "name": "stdout",
     "output_type": "stream",
     "text": [
      "Using ADASYN. All classification scoring metrics below are for the positive class, which in\n",
      "this case is also the minority class.\n",
      "Logistic Reg :\n",
      "Model score on training set: 0.818\n",
      "Model score on validation set: 0.807\n",
      "Recall: 0.859 +/- 0.000\n",
      "Precision: 0.294 +/- 0.000\n",
      "F-beta Score: 0.855 +/- 0.000\n",
      "Accuracy: 0.800 +/- 0.000\n",
      " \n",
      "BernoulliNB :\n",
      "Model score on training set: 0.771\n",
      "Model score on validation set: 0.788\n",
      "Recall: 0.781 +/- 0.000\n",
      "Precision: 0.264 +/- 0.000\n",
      "F-beta Score: 0.777 +/- 0.000\n",
      "Accuracy: 0.783 +/- 0.000\n",
      " \n",
      "SVC :\n",
      "Model score on training set: 0.907\n",
      "Model score on validation set: 0.828\n",
      "Recall: 0.783 +/- 0.000\n",
      "Precision: 0.323 +/- 0.000\n",
      "F-beta Score: 0.780 +/- 0.000\n",
      "Accuracy: 0.832 +/- 0.000\n",
      " \n"
     ]
    }
   ],
   "source": [
    "print(\"Using ADASYN. All classification scoring metrics below are for the positive class, which in\" \"\\n\"\n",
    "\"this case is also the minority class.\")\n",
    "for model_name, model in models.items():\n",
    "    average_metrics_pipeline(X_train, y_train, model_name, model, ADASYN(random_state=44), 20) # try beta = 20\n",
    "    print(\" \")"
   ]
  },
  {
   "cell_type": "markdown",
   "metadata": {},
   "source": [
    "Again not much of a difference between beta=10 versus beta=20, however, ADASYN does provide better classification metrics than RandomOverSampler for all three of my model contender. Ultimately Logistic Regression continues to offer the best recall performance, but for one last check, let's compare each of the three model's ROC-AUC Curves."
   ]
  },
  {
   "cell_type": "code",
   "execution_count": 34,
   "metadata": {},
   "outputs": [],
   "source": [
    "def plot_roc_curves(X, y):\n",
    "    plt.figure(figsize=(10,6))\n",
    "    lw = 2\n",
    "    \n",
    "    # train-val split and oversample\n",
    "    X_train, X_val, y_train, y_val = train_test_split(\n",
    "        X, y, test_size=.2, random_state=0)\n",
    "    adasyn = ADASYN(random_state=44)\n",
    "    X_oversampled_train, y_oversampled_train = adasyn.fit_sample(\n",
    "        X_train, y_train)\n",
    "    \n",
    "    # Logistic Regression\n",
    "    # fit model and predict probabilities of validation data \n",
    "    log_reg = LogisticRegression(max_iter=5000, n_jobs=-1, random_state=44)\n",
    "    log_reg.fit(X_oversampled_train, y_oversampled_train)\n",
    "    y_pred = log_reg.predict_proba(X_val)\n",
    "\n",
    "    fpr, tpr, thresholds = roc_curve(y_val, y_pred[:,1])\n",
    "    model_auc = roc_auc_score(y_val, y_pred[:,1])\n",
    "    plt.plot(fpr, tpr, color='b',\n",
    "             lw=lw, label=f'Logistic Regression, AUC: {model_auc:.4f}')\n",
    "\n",
    "    \n",
    "    # Naive Bayes \n",
    "    # fit model and predict probabilities of validation data \n",
    "    nb = BernoulliNB()\n",
    "    nb.fit(X_oversampled_train, y_oversampled_train)\n",
    "    y_pred = nb.predict_proba(X_val)\n",
    "     \n",
    "    fpr, tpr, thresholds = roc_curve(y_val, y_pred[:,1])\n",
    "    model_auc = roc_auc_score(y_val, y_pred[:,1])\n",
    "    plt.plot(fpr, tpr, color='r',\n",
    "             lw=lw, label=f'Bernoulli Naive Bayes, AUC: {model_auc:.4f}')\n",
    "       \n",
    "    # SVC \n",
    "    # fit model and predict probabilities of validation data\n",
    "    svc = SVC(probability=True, random_state=1)\n",
    "    svc.fit(X_oversampled_train, y_oversampled_train)\n",
    "    y_pred = svc.predict_proba(X_val)\n",
    "     \n",
    "    fpr, tpr, thresholds = roc_curve(y_val, y_pred[:,1])\n",
    "    model_auc = roc_auc_score(y_val, y_pred[:,1])\n",
    "    plt.plot(fpr, tpr, color='g',\n",
    "             lw=lw, label=f'SVC, AUC: {model_auc:.4f}')\n",
    "    \n",
    "    plt.plot([0,1],[0,1],c='violet',ls='--', label='Chance Line')\n",
    "    plt.xlim([-0.05,1.05])\n",
    "    plt.ylim([-0.05,1.05])\n",
    "\n",
    "    plt.xlabel('False positive rate')\n",
    "    plt.ylabel('True positive rate')\n",
    "    plt.title('ROC Curves for top 3 Contending Models')\n",
    "    plt.legend(loc='lower right', prop={'size': 10}, frameon=True);\n",
    "    plt.savefig('ROC Curves for top 3 Contending Models');"
   ]
  },
  {
   "cell_type": "code",
   "execution_count": 35,
   "metadata": {},
   "outputs": [
    {
     "data": {
      "image/png": "[encoded data removed]",
      "text/plain": [
       "<Figure size 720x432 with 1 Axes>"
      ]
     },
     "metadata": {},
     "output_type": "display_data"
    }
   ],
   "source": [
    "plot_roc_curves(X_train, y_train)"
   ]
  },
  {
   "cell_type": "markdown",
   "metadata": {},
   "source": [
    "Once again, the differences in performance are somewhat marginal but Logistic Regression does take the lead and has the added benifit of high interpretability which is extremely desirable for the objectives of this project.  \n",
    "So I will now proceed with using a Logistic Regression model but before I fit the final model, first let's take a closer look at tuning the hyperparameters. "
   ]
  },
  {
   "cell_type": "markdown",
   "metadata": {},
   "source": [
    "## Hyperparameter Tuning"
   ]
  },
  {
   "cell_type": "code",
   "execution_count": 36,
   "metadata": {},
   "outputs": [],
   "source": [
    "def classification_reports_pipeline(X, y, model_name, model, oversampler):\n",
    "    \"\"\" For a given dataset and classification model, fits the model, predicts classes of\n",
    "    validation set, and returns the classification report showing precision, recall, f1 and \n",
    "    support for each class, as well as the average accuracy score. \"\"\"\n",
    "\n",
    "    X = np.array(X)\n",
    "    y = np.array(y)\n",
    "\n",
    "    # train-val split and oversample\n",
    "    X_train, X_val, y_train, y_val = train_test_split(\n",
    "        X, y, test_size=.2, random_state=0)\n",
    "    X_oversampled_train, y_oversampled_train = oversampler.fit_sample(\n",
    "        X_train, y_train)\n",
    "\n",
    "    # fit models\n",
    "\n",
    "    model.fit(X_oversampled_train, np.array(y_oversampled_train).ravel())\n",
    "    y_pred = model.predict(X_val)\n",
    "    \n",
    "    precision_recall_fscore = precision_recall_fscore_support(y_val, y_pred)\n",
    "    \n",
    "    majority_precision = \"Majority Class Precision: {:.3f}\".format(precision_recall_fscore[0][0])\n",
    "    minority_precision = \"Minority Class Precision: {:.3f}\".format(precision_recall_fscore[0][1])\n",
    "\n",
    "    majority_recall = \"Majority Class Recall: {:.3f}\".format(precision_recall_fscore[1][0])\n",
    "    minority_recall = \"Minority Class Recall: {:.3f}\".format(precision_recall_fscore[1][1])\n",
    "    \n",
    "    majority_fbeta = \"Majority Class F-beta: {:.3f}\".format(precision_recall_fscore[2][0])\n",
    "    minority_fbeta = \"Minority Class F-beta: {:.3f}\".format(precision_recall_fscore[2][1])\n",
    "\n",
    "    # print classification reports\n",
    "    print(model_name, \":\")\n",
    "    print(minority_precision)\n",
    "    print(minority_recall)\n",
    "    print(minority_fbeta)\n",
    "    print(majority_precision)\n",
    "    print(majority_recall)\n",
    "    print(majority_fbeta)"
   ]
  },
  {
   "cell_type": "code",
   "execution_count": 37,
   "metadata": {},
   "outputs": [],
   "source": [
    "solvers = [\"newton-cg\", \"lbfgs\", \"liblinear\", \"sag\", \"saga\"]\n",
    "\n",
    "models = {}\n",
    "for solver in solvers:\n",
    "    models[\"Log Reg \"+solver] = LogisticRegression(max_iter=5000, solver = solver, n_jobs=-1, random_state=44)"
   ]
  },
  {
   "cell_type": "code",
   "execution_count": 38,
   "metadata": {},
   "outputs": [
    {
     "name": "stdout",
     "output_type": "stream",
     "text": [
      "Log Reg newton-cg :\n",
      "Minority Class Precision: 0.292\n",
      "Minority Class Recall: 0.836\n",
      "Minority Class F-beta: 0.433\n",
      "Majority Class Precision: 0.980\n",
      "Majority Class Recall: 0.797\n",
      "Majority Class F-beta: 0.879\n",
      " \n",
      "Log Reg lbfgs :\n",
      "Minority Class Precision: 0.290\n",
      "Minority Class Recall: 0.826\n",
      "Minority Class F-beta: 0.429\n",
      "Majority Class Precision: 0.979\n",
      "Majority Class Recall: 0.798\n",
      "Majority Class F-beta: 0.879\n",
      " \n"
     ]
    },
    {
     "name": "stderr",
     "output_type": "stream",
     "text": [
      "/Users/AmandaCheney/opt/anaconda3/lib/python3.8/site-packages/sklearn/linear_model/_logistic.py:1353: UserWarning: 'n_jobs' > 1 does not have any effect when 'solver' is set to 'liblinear'. Got 'n_jobs' = 4.\n",
      "  warnings.warn(\"'n_jobs' > 1 does not have any effect when\"\n"
     ]
    },
    {
     "name": "stdout",
     "output_type": "stream",
     "text": [
      "Log Reg liblinear :\n",
      "Minority Class Precision: 0.290\n",
      "Minority Class Recall: 0.831\n",
      "Minority Class F-beta: 0.430\n",
      "Majority Class Precision: 0.979\n",
      "Majority Class Recall: 0.796\n",
      "Majority Class F-beta: 0.878\n",
      " \n"
     ]
    },
    {
     "name": "stderr",
     "output_type": "stream",
     "text": [
      "/Users/AmandaCheney/opt/anaconda3/lib/python3.8/site-packages/sklearn/linear_model/_sag.py:329: ConvergenceWarning: The max_iter was reached which means the coef_ did not converge\n",
      "  warnings.warn(\"The max_iter was reached which means \"\n"
     ]
    },
    {
     "name": "stdout",
     "output_type": "stream",
     "text": [
      "Log Reg sag :\n",
      "Minority Class Precision: 0.299\n",
      "Minority Class Recall: 0.839\n",
      "Minority Class F-beta: 0.440\n",
      "Majority Class Precision: 0.980\n",
      "Majority Class Recall: 0.803\n",
      "Majority Class F-beta: 0.883\n",
      " \n",
      "Log Reg saga :\n",
      "Minority Class Precision: 0.292\n",
      "Minority Class Recall: 0.822\n",
      "Minority Class F-beta: 0.431\n",
      "Majority Class Precision: 0.978\n",
      "Majority Class Recall: 0.800\n",
      "Majority Class F-beta: 0.880\n",
      " \n"
     ]
    },
    {
     "name": "stderr",
     "output_type": "stream",
     "text": [
      "/Users/AmandaCheney/opt/anaconda3/lib/python3.8/site-packages/sklearn/linear_model/_sag.py:329: ConvergenceWarning: The max_iter was reached which means the coef_ did not converge\n",
      "  warnings.warn(\"The max_iter was reached which means \"\n"
     ]
    }
   ],
   "source": [
    "for model_name, model in models.items():\n",
    "    classification_reports_pipeline(X_train, y_train, model_name, model, ADASYN(random_state=44))\n",
    "    print(\" \")"
   ]
  },
  {
   "cell_type": "markdown",
   "metadata": {},
   "source": [
    "Sag and saga both fail to converge after 5,000 iterations. The remaining solvers, newton-cg, lbfgs and liblinear, have relatively comparable results, however,  newton-cg and lbfgs only support L2 regularization while liblinear allows for both L1 and L2. However since there is likely multi-colinearity between many of my features due to the nature of my data, I want to make sure that I am able to use the best possible regularization technique so I decide to choose liblinear as my solver. "
   ]
  },
  {
   "cell_type": "markdown",
   "metadata": {},
   "source": [
    "Now let's see which of these two regularization options give better performance. "
   ]
  },
  {
   "cell_type": "code",
   "execution_count": 39,
   "metadata": {},
   "outputs": [],
   "source": [
    "penalties = [\"l1\", \"l2\"]\n",
    "models = {}\n",
    "for i in penalties:\n",
    "    models[\"Log Reg \"+i] = LogisticRegression(max_iter=5000, solver=\"liblinear\", penalty=i, random_state=44)"
   ]
  },
  {
   "cell_type": "code",
   "execution_count": 40,
   "metadata": {},
   "outputs": [
    {
     "name": "stdout",
     "output_type": "stream",
     "text": [
      "Log Reg l1 :\n",
      "Minority Class Precision: 0.291\n",
      "Minority Class Recall: 0.831\n",
      "Minority Class F-beta: 0.431\n",
      "Majority Class Precision: 0.979\n",
      "Majority Class Recall: 0.797\n",
      "Majority Class F-beta: 0.879\n",
      " \n",
      "Log Reg l2 :\n",
      "Minority Class Precision: 0.290\n",
      "Minority Class Recall: 0.831\n",
      "Minority Class F-beta: 0.430\n",
      "Majority Class Precision: 0.979\n",
      "Majority Class Recall: 0.796\n",
      "Majority Class F-beta: 0.878\n",
      " \n"
     ]
    }
   ],
   "source": [
    "for model_name, model in models.items():\n",
    "    classification_reports_pipeline(X_train, y_train, model_name, model, ADASYN(random_state=44))\n",
    "    print(\" \")"
   ]
  },
  {
   "cell_type": "markdown",
   "metadata": {},
   "source": [
    "The differences between the perfomance of L1 (Lasso) and L2(Ridge) are all but negligible, however l1 gives marginally better scores so I will chose L1. Now to turn to considering regularization strength, C. "
   ]
  },
  {
   "cell_type": "code",
   "execution_count": 41,
   "metadata": {},
   "outputs": [],
   "source": [
    "C_param_range = [0.001,0.01,0.1,1,10,100]\n",
    "\n",
    "models = {}\n",
    "for i in C_param_range:\n",
    "    models[\"Log Reg, C=\"+str(i)] = LogisticRegression(max_iter=5000, solver=\"liblinear\", penalty='l1', C=i, random_state=44)"
   ]
  },
  {
   "cell_type": "code",
   "execution_count": 42,
   "metadata": {},
   "outputs": [
    {
     "name": "stdout",
     "output_type": "stream",
     "text": [
      "Log Reg, C=0.001 :\n",
      "Minority Class Precision: 0.294\n",
      "Minority Class Recall: 0.834\n",
      "Minority Class F-beta: 0.435\n",
      "Majority Class Precision: 0.980\n",
      "Majority Class Recall: 0.799\n",
      "Majority Class F-beta: 0.880\n",
      " \n",
      "Log Reg, C=0.01 :\n",
      "Minority Class Precision: 0.291\n",
      "Minority Class Recall: 0.826\n",
      "Minority Class F-beta: 0.430\n",
      "Majority Class Precision: 0.979\n",
      "Majority Class Recall: 0.798\n",
      "Majority Class F-beta: 0.879\n",
      " \n",
      "Log Reg, C=0.1 :\n",
      "Minority Class Precision: 0.291\n",
      "Minority Class Recall: 0.826\n",
      "Minority Class F-beta: 0.430\n",
      "Majority Class Precision: 0.979\n",
      "Majority Class Recall: 0.798\n",
      "Majority Class F-beta: 0.879\n",
      " \n",
      "Log Reg, C=1 :\n",
      "Minority Class Precision: 0.291\n",
      "Minority Class Recall: 0.831\n",
      "Minority Class F-beta: 0.431\n",
      "Majority Class Precision: 0.979\n",
      "Majority Class Recall: 0.797\n",
      "Majority Class F-beta: 0.879\n",
      " \n",
      "Log Reg, C=10 :\n",
      "Minority Class Precision: 0.291\n",
      "Minority Class Recall: 0.831\n",
      "Minority Class F-beta: 0.431\n",
      "Majority Class Precision: 0.979\n",
      "Majority Class Recall: 0.797\n",
      "Majority Class F-beta: 0.879\n",
      " \n",
      "Log Reg, C=100 :\n",
      "Minority Class Precision: 0.291\n",
      "Minority Class Recall: 0.831\n",
      "Minority Class F-beta: 0.431\n",
      "Majority Class Precision: 0.979\n",
      "Majority Class Recall: 0.797\n",
      "Majority Class F-beta: 0.879\n",
      " \n"
     ]
    }
   ],
   "source": [
    "for model_name, model in models.items():\n",
    "    classification_reports_pipeline(X_train, y_train, model_name, model, ADASYN(random_state=44))\n",
    "    print(\" \")"
   ]
  },
  {
   "cell_type": "markdown",
   "metadata": {},
   "source": [
    "Once again, the differences between our C parameter options are marginal, but C=0.001 gives the best minority class recall so I will go with that."
   ]
  },
  {
   "cell_type": "markdown",
   "metadata": {},
   "source": [
    "# Final model  \n",
    "Logistic Regression, solver=\"\", ADASYN to handle class imbalance, C=.001 and l1 for regularization."
   ]
  },
  {
   "cell_type": "code",
   "execution_count": 43,
   "metadata": {},
   "outputs": [],
   "source": [
    "final_model = LogisticRegression(max_iter=5000, solver=\"liblinear\", penalty='l1', C=.001, random_state=44)\n",
    "\n",
    "adasyn = ADASYN(random_state=44)\n",
    "X_oversampled_combined_train_val, y_oversampled_combined_train_val = adasyn.fit_sample(X_train, y_train)\n",
    "final_model.fit(X_oversampled_combined_train_val, np.array(y_oversampled_combined_train_val).ravel())\n",
    "y_pred = final_model.predict(X_test)"
   ]
  },
  {
   "cell_type": "markdown",
   "metadata": {},
   "source": [
    "### Evaluating Performance of Final Model on Hold Out Test Data"
   ]
  },
  {
   "cell_type": "code",
   "execution_count": 44,
   "metadata": {},
   "outputs": [
    {
     "name": "stdout",
     "output_type": "stream",
     "text": [
      "Final Logistic Regression Scoring Metrics on Holdout Test Data\n",
      "Minority Class Precision: 0.284\n",
      "Minority Class Recall: 0.857\n",
      "Minority Class F-beta: 0.840\n",
      "Majority Class Precision: 0.982\n",
      "Majority Class Recall: 0.785\n",
      "Majority Class F-beta: 0.787\n"
     ]
    }
   ],
   "source": [
    "precision_recall_fscore = precision_recall_fscore_support(y_test, y_pred, beta=10)\n",
    "\n",
    "majority_precision = \"Majority Class Precision: {:.3f}\".format(precision_recall_fscore[0][0])\n",
    "minority_precision = \"Minority Class Precision: {:.3f}\".format(precision_recall_fscore[0][1])\n",
    "\n",
    "majority_recall = \"Majority Class Recall: {:.3f}\".format(precision_recall_fscore[1][0])\n",
    "minority_recall = \"Minority Class Recall: {:.3f}\".format(precision_recall_fscore[1][1])\n",
    "\n",
    "majority_fbeta = \"Majority Class F-beta: {:.3f}\".format(precision_recall_fscore[2][0])\n",
    "minority_fbeta = \"Minority Class F-beta: {:.3f}\".format(precision_recall_fscore[2][1])\n",
    "\n",
    "# print classification reports\n",
    "print(\"Final Logistic Regression Scoring Metrics on Holdout Test Data\")\n",
    "print(minority_precision)\n",
    "print(minority_recall)\n",
    "print(minority_fbeta)\n",
    "print(majority_precision)\n",
    "print(majority_recall)\n",
    "print(majority_fbeta)"
   ]
  },
  {
   "cell_type": "code",
   "execution_count": 45,
   "metadata": {},
   "outputs": [
    {
     "name": "stdout",
     "output_type": "stream",
     "text": [
      "ROC AUC score on hold out test data = 0.902\n"
     ]
    },
    {
     "data": {
      "image/png": "[encoded data removed]",
      "text/plain": [
       "<Figure size 432x288 with 1 Axes>"
      ]
     },
     "metadata": {},
     "output_type": "display_data"
    }
   ],
   "source": [
    "fpr, tpr, thresholds = roc_curve(y_test, final_model.predict_proba(X_test)[:,1])\n",
    "\n",
    "model_auc = roc_auc_score(y_test, final_model.predict_proba(X_test)[:,1])\n",
    "\n",
    "plt.plot(fpr, tpr,lw=2, label=f'AUC: {model_auc:.4f}')\n",
    "plt.plot([0,1],[0,1],c='violet',ls='--', label='Chance Line')\n",
    "plt.xlim([-0.05,1.05])\n",
    "plt.ylim([-0.05,1.05])\n",
    "\n",
    "plt.xlabel('False positive rate')\n",
    "plt.ylabel('True positive rate')\n",
    "plt.title('ROC curve for Final Logistic Regression Model')\n",
    "plt.legend(loc='lower right', prop={'size': 10}, frameon=True);\n",
    "print(\"ROC AUC score on hold out test data = {:.3f}\".format(roc_auc_score(y_test, final_model.predict_proba(X_test)[:,1])))\n",
    "# plt.savefig('');"
   ]
  },
  {
   "cell_type": "markdown",
   "metadata": {},
   "source": [
    "### Visualizing the Percentage of Actual Deadly Encounters Captured"
   ]
  },
  {
   "cell_type": "code",
   "execution_count": 46,
   "metadata": {},
   "outputs": [
    {
     "data": {
      "image/png": "[encoded data removed]",
      "text/plain": [
       "<Figure size 600x400 with 1 Axes>"
      ]
     },
     "metadata": {},
     "output_type": "display_data"
    }
   ],
   "source": [
    "# Print confusion matrix for logistic regression\n",
    "final_logreg_confusion = confusion_matrix(y_test, final_model.predict(X_test))\n",
    "plt.figure(dpi=100)\n",
    "sns.heatmap(final_logreg_confusion, fmt='d', cmap=plt.cm.cividis, annot=True, square=True, cbar=False,\n",
    "           xticklabels=['No Deadly Encounter', 'Deadly Encounter(s)'],\n",
    "           yticklabels=['No Deadly\\n Encounter', 'Deadly\\n Encounter(s)'])\n",
    "\n",
    "# plt.xticks([1,2], labe;s)\n",
    "plt.yticks(rotation=0)\n",
    "\n",
    "plt.xlabel('\\nPredicted\\n\\n {}, {}, {}'.format(minority_recall, minority_precision, minority_fbeta), fontsize=10)\n",
    "plt.ylabel('Actual                 ', fontsize=10, rotation=0)\n",
    "plt.title('Final Logistic Regression Model confusion matrix');"
   ]
  },
  {
   "cell_type": "markdown",
   "metadata": {},
   "source": [
    "# Feature Importance"
   ]
  },
  {
   "cell_type": "code",
   "execution_count": 47,
   "metadata": {},
   "outputs": [
    {
     "name": "stderr",
     "output_type": "stream",
     "text": [
      "/Users/AmandaCheney/opt/anaconda3/lib/python3.8/site-packages/sklearn/utils/deprecation.py:143: FutureWarning: The sklearn.metrics.classification module is  deprecated in version 0.22 and will be removed in version 0.24. The corresponding classes / functions should instead be imported from sklearn.metrics. Anything that cannot be imported from sklearn.metrics is now part of the private API.\n",
      "  warnings.warn(message, FutureWarning)\n",
      "/Users/AmandaCheney/opt/anaconda3/lib/python3.8/site-packages/sklearn/base.py:209: FutureWarning: From version 0.24, get_params will raise an AttributeError if a parameter cannot be retrieved as an instance attribute. Previously it would return None.\n",
      "  warnings.warn('From version 0.24, get_params will raise an '\n",
      "/Users/AmandaCheney/opt/anaconda3/lib/python3.8/site-packages/yellowbrick/model_selection/importances.py:190: YellowbrickWarning: detected multi-dimensional feature importances but stack=False, using mean to aggregate them.\n",
      "  warnings.warn(\n"
     ]
    },
    {
     "data": {
      "image/png": "[encoded data removed]",
      "text/plain": [
       "<Figure size 1080x720 with 1 Axes>"
      ]
     },
     "metadata": {},
     "output_type": "display_data"
    }
   ],
   "source": [
    "from yellowbrick.model_selection import FeatureImportances\n",
    "\n",
    "figure(num=None, figsize=(15, 10), facecolor='w')\n",
    "\n",
    "my_title = \"Feature Importances in Determining Deadly Police Encounters\"\n",
    "visualizer = FeatureImportances(final_model, title=my_title)\n",
    "visualizer.fit(X_train, y_train)\n",
    "\n",
    "visualizer.show()\n",
    "for label in visualizer.ax.texts:\n",
    "    label.set_size(20);"
   ]
  },
  {
   "cell_type": "markdown",
   "metadata": {},
   "source": [
    "With the full list of features clocking in at 45, and having done regulization at least half my features have gone down to zero and even if that weren't the case 48 is too high to allow for reasonable interpretability, so I will now select the top 10 most important."
   ]
  },
  {
   "cell_type": "code",
   "execution_count": 48,
   "metadata": {},
   "outputs": [
    {
     "data": {
      "text/plain": [
       "45"
      ]
     },
     "execution_count": 48,
     "metadata": {},
     "output_type": "execute_result"
    }
   ],
   "source": [
    "coeffs = list(zip(X_train,final_model.coef_[0]))\n",
    "len(coeffs)"
   ]
  },
  {
   "cell_type": "code",
   "execution_count": 49,
   "metadata": {},
   "outputs": [
    {
     "data": {
      "text/html": [
       "<div>\n",
       "<style scoped>\n",
       "    .dataframe tbody tr th:only-of-type {\n",
       "        vertical-align: middle;\n",
       "    }\n",
       "\n",
       "    .dataframe tbody tr th {\n",
       "        vertical-align: top;\n",
       "    }\n",
       "\n",
       "    .dataframe thead th {\n",
       "        text-align: right;\n",
       "    }\n",
       "</style>\n",
       "<table border=\"1\" class=\"dataframe\">\n",
       "  <thead>\n",
       "    <tr style=\"text-align: right;\">\n",
       "      <th></th>\n",
       "      <th>Feature</th>\n",
       "      <th>Coefficient</th>\n",
       "    </tr>\n",
       "  </thead>\n",
       "  <tbody>\n",
       "    <tr>\n",
       "      <th>7</th>\n",
       "      <td>DP05_0077PE</td>\n",
       "      <td>-0.029433</td>\n",
       "    </tr>\n",
       "    <tr>\n",
       "      <th>41</th>\n",
       "      <td>S2802_C07_001E</td>\n",
       "      <td>-0.016378</td>\n",
       "    </tr>\n",
       "    <tr>\n",
       "      <th>9</th>\n",
       "      <td>DP02_0067PE</td>\n",
       "      <td>0.013205</td>\n",
       "    </tr>\n",
       "    <tr>\n",
       "      <th>8</th>\n",
       "      <td>DP02_0066PE</td>\n",
       "      <td>0.011320</td>\n",
       "    </tr>\n",
       "    <tr>\n",
       "      <th>11</th>\n",
       "      <td>S2701_C03_017E</td>\n",
       "      <td>0.010195</td>\n",
       "    </tr>\n",
       "    <tr>\n",
       "      <th>22</th>\n",
       "      <td>S2201_C04_013E</td>\n",
       "      <td>0.008641</td>\n",
       "    </tr>\n",
       "    <tr>\n",
       "      <th>43</th>\n",
       "      <td>S2802_C07_012E</td>\n",
       "      <td>0.008129</td>\n",
       "    </tr>\n",
       "    <tr>\n",
       "      <th>6</th>\n",
       "      <td>DP05_0071PE</td>\n",
       "      <td>0.007280</td>\n",
       "    </tr>\n",
       "    <tr>\n",
       "      <th>23</th>\n",
       "      <td>S2201_C04_026E</td>\n",
       "      <td>0.006861</td>\n",
       "    </tr>\n",
       "    <tr>\n",
       "      <th>12</th>\n",
       "      <td>S2701_C03_023E</td>\n",
       "      <td>0.006648</td>\n",
       "    </tr>\n",
       "  </tbody>\n",
       "</table>\n",
       "</div>"
      ],
      "text/plain": [
       "           Feature  Coefficient\n",
       "7      DP05_0077PE    -0.029433\n",
       "41  S2802_C07_001E    -0.016378\n",
       "9      DP02_0067PE     0.013205\n",
       "8      DP02_0066PE     0.011320\n",
       "11  S2701_C03_017E     0.010195\n",
       "22  S2201_C04_013E     0.008641\n",
       "43  S2802_C07_012E     0.008129\n",
       "6      DP05_0071PE     0.007280\n",
       "23  S2201_C04_026E     0.006861\n",
       "12  S2701_C03_023E     0.006648"
      ]
     },
     "execution_count": 49,
     "metadata": {},
     "output_type": "execute_result"
    }
   ],
   "source": [
    "test = pd.DataFrame(coeffs, columns = ['Feature', 'Coefficient'])\n",
    "mine = test.iloc[(-np.abs(test['Coefficient'].values)).argsort()]\n",
    "top_ten = mine[:10]\n",
    "top_ten"
   ]
  },
  {
   "cell_type": "code",
   "execution_count": 50,
   "metadata": {},
   "outputs": [],
   "source": [
    "my_dict={\n",
    "    \"S2802_C07_001E\":\"% all households with no computer\",  \n",
    "    \"DP02_0067PE\":\"% pop 25+ with Bachelor's degree or higher\",  \n",
    "    \"DP05_0077PE\": \"% pop that is White (not Hispanic or Latino)\",  \n",
    "    \"S2701_C03_017E\": \"% of Black pop with Health Insurance\",\n",
    "    \"S2201_C04_013E\": \"% of Single Mother Households \\n with children under 18 receiving SNAP\",  \n",
    "    \"S2802_C07_012E\": \"% Latinx households with no computer\", \n",
    "    \"S2701_C03_023E\": \"% of Latinx pop with Health Insurance\",\n",
    "    \"DP02_0066PE\": \"% pop with High School diploma or higher\", \n",
    "    \"DP05_0071PE\": \"% of pop that is Latinx\",\n",
    "    \"S2201_C04_026E\": \"% of Black households receiving SNAP\"\n",
    "}"
   ]
  },
  {
   "cell_type": "code",
   "execution_count": 51,
   "metadata": {},
   "outputs": [
    {
     "name": "stderr",
     "output_type": "stream",
     "text": [
      "/Users/AmandaCheney/opt/anaconda3/lib/python3.8/site-packages/pandas/core/frame.py:4376: SettingWithCopyWarning: \n",
      "A value is trying to be set on a copy of a slice from a DataFrame\n",
      "\n",
      "See the caveats in the documentation: https://pandas.pydata.org/pandas-docs/stable/user_guide/indexing.html#returning-a-view-versus-a-copy\n",
      "  return super().replace(\n"
     ]
    }
   ],
   "source": [
    "for k,v in my_dict.items():\n",
    "    for i in range(len(top_ten)):\n",
    "        if top_ten.iloc[i][0]==k:\n",
    "            top_ten.replace(top_ten.iloc[i][0], v, inplace=True)"
   ]
  },
  {
   "cell_type": "code",
   "execution_count": 52,
   "metadata": {},
   "outputs": [
    {
     "data": {
      "text/html": [
       "<div>\n",
       "<style scoped>\n",
       "    .dataframe tbody tr th:only-of-type {\n",
       "        vertical-align: middle;\n",
       "    }\n",
       "\n",
       "    .dataframe tbody tr th {\n",
       "        vertical-align: top;\n",
       "    }\n",
       "\n",
       "    .dataframe thead th {\n",
       "        text-align: right;\n",
       "    }\n",
       "</style>\n",
       "<table border=\"1\" class=\"dataframe\">\n",
       "  <thead>\n",
       "    <tr style=\"text-align: right;\">\n",
       "      <th></th>\n",
       "      <th>Feature</th>\n",
       "      <th>Coefficient</th>\n",
       "    </tr>\n",
       "  </thead>\n",
       "  <tbody>\n",
       "    <tr>\n",
       "      <th>9</th>\n",
       "      <td>% pop 25+ with Bachelor's degree or higher</td>\n",
       "      <td>0.013205</td>\n",
       "    </tr>\n",
       "    <tr>\n",
       "      <th>8</th>\n",
       "      <td>% pop with High School diploma or higher</td>\n",
       "      <td>0.011320</td>\n",
       "    </tr>\n",
       "    <tr>\n",
       "      <th>11</th>\n",
       "      <td>% of Black pop with Health Insurance</td>\n",
       "      <td>0.010195</td>\n",
       "    </tr>\n",
       "    <tr>\n",
       "      <th>22</th>\n",
       "      <td>% of Single Mother Households \\n with children...</td>\n",
       "      <td>0.008641</td>\n",
       "    </tr>\n",
       "    <tr>\n",
       "      <th>43</th>\n",
       "      <td>% Latinx households with no computer</td>\n",
       "      <td>0.008129</td>\n",
       "    </tr>\n",
       "    <tr>\n",
       "      <th>6</th>\n",
       "      <td>% of pop that is Latinx</td>\n",
       "      <td>0.007280</td>\n",
       "    </tr>\n",
       "    <tr>\n",
       "      <th>23</th>\n",
       "      <td>% of Black households receiving SNAP</td>\n",
       "      <td>0.006861</td>\n",
       "    </tr>\n",
       "    <tr>\n",
       "      <th>12</th>\n",
       "      <td>% of Latinx pop with Health Insurance</td>\n",
       "      <td>0.006648</td>\n",
       "    </tr>\n",
       "    <tr>\n",
       "      <th>41</th>\n",
       "      <td>% all households with no computer</td>\n",
       "      <td>-0.016378</td>\n",
       "    </tr>\n",
       "    <tr>\n",
       "      <th>7</th>\n",
       "      <td>% pop that is White (not Hispanic or Latino)</td>\n",
       "      <td>-0.029433</td>\n",
       "    </tr>\n",
       "  </tbody>\n",
       "</table>\n",
       "</div>"
      ],
      "text/plain": [
       "                                              Feature  Coefficient\n",
       "9          % pop 25+ with Bachelor's degree or higher     0.013205\n",
       "8            % pop with High School diploma or higher     0.011320\n",
       "11               % of Black pop with Health Insurance     0.010195\n",
       "22  % of Single Mother Households \\n with children...     0.008641\n",
       "43               % Latinx households with no computer     0.008129\n",
       "6                             % of pop that is Latinx     0.007280\n",
       "23               % of Black households receiving SNAP     0.006861\n",
       "12              % of Latinx pop with Health Insurance     0.006648\n",
       "41                  % all households with no computer    -0.016378\n",
       "7        % pop that is White (not Hispanic or Latino)    -0.029433"
      ]
     },
     "execution_count": 52,
     "metadata": {},
     "output_type": "execute_result"
    }
   ],
   "source": [
    "top_ten = top_ten.sort_values('Coefficient', ascending=False)\n",
    "top_ten"
   ]
  },
  {
   "cell_type": "code",
   "execution_count": 53,
   "metadata": {},
   "outputs": [],
   "source": [
    "with open('top_ten.pickle', 'wb') as to_write:\n",
    "    pickle.dump(top_ten, to_write)"
   ]
  },
  {
   "cell_type": "code",
   "execution_count": 54,
   "metadata": {},
   "outputs": [
    {
     "data": {
      "image/png": "[encoded data removed]",
      "text/plain": [
       "<Figure size 720x432 with 1 Axes>"
      ]
     },
     "metadata": {},
     "output_type": "display_data"
    }
   ],
   "source": [
    "increase = list(top_ten.Feature[0:8])\n",
    "plt.figure(figsize=(10,6))\n",
    "sns.barplot(y=top_ten['Feature'], x=top_ten['Coefficient'], data=top_ten, orient='h', palette=['orangered' if y in increase else 'gainsboro' for y in top_ten.Feature])\n",
    "\n",
    "plt.title('Feature Importances in Final Logistic Regression Model');\n",
    "plt.savefig('Feature Importance');"
   ]
  },
  {
   "cell_type": "markdown",
   "metadata": {},
   "source": [
    "Output the final model's predictions of the likelihood of a deadly encounter for all observations to input into Tableau visualization."
   ]
  },
  {
   "cell_type": "code",
   "execution_count": 55,
   "metadata": {},
   "outputs": [
    {
     "data": {
      "text/html": [
       "<div>\n",
       "<style scoped>\n",
       "    .dataframe tbody tr th:only-of-type {\n",
       "        vertical-align: middle;\n",
       "    }\n",
       "\n",
       "    .dataframe tbody tr th {\n",
       "        vertical-align: top;\n",
       "    }\n",
       "\n",
       "    .dataframe thead th {\n",
       "        text-align: right;\n",
       "    }\n",
       "</style>\n",
       "<table border=\"1\" class=\"dataframe\">\n",
       "  <thead>\n",
       "    <tr style=\"text-align: right;\">\n",
       "      <th></th>\n",
       "      <th>0</th>\n",
       "      <th>1</th>\n",
       "    </tr>\n",
       "  </thead>\n",
       "  <tbody>\n",
       "    <tr>\n",
       "      <th>0</th>\n",
       "      <td>0.787879</td>\n",
       "      <td>0.212121</td>\n",
       "    </tr>\n",
       "    <tr>\n",
       "      <th>1</th>\n",
       "      <td>0.027707</td>\n",
       "      <td>0.972293</td>\n",
       "    </tr>\n",
       "    <tr>\n",
       "      <th>2</th>\n",
       "      <td>0.080092</td>\n",
       "      <td>0.919908</td>\n",
       "    </tr>\n",
       "    <tr>\n",
       "      <th>3</th>\n",
       "      <td>0.231799</td>\n",
       "      <td>0.768201</td>\n",
       "    </tr>\n",
       "    <tr>\n",
       "      <th>4</th>\n",
       "      <td>0.109497</td>\n",
       "      <td>0.890503</td>\n",
       "    </tr>\n",
       "    <tr>\n",
       "      <th>...</th>\n",
       "      <td>...</td>\n",
       "      <td>...</td>\n",
       "    </tr>\n",
       "    <tr>\n",
       "      <th>28076</th>\n",
       "      <td>0.726508</td>\n",
       "      <td>0.273492</td>\n",
       "    </tr>\n",
       "    <tr>\n",
       "      <th>28077</th>\n",
       "      <td>0.906099</td>\n",
       "      <td>0.093901</td>\n",
       "    </tr>\n",
       "    <tr>\n",
       "      <th>28078</th>\n",
       "      <td>0.413322</td>\n",
       "      <td>0.586678</td>\n",
       "    </tr>\n",
       "    <tr>\n",
       "      <th>28079</th>\n",
       "      <td>0.857572</td>\n",
       "      <td>0.142428</td>\n",
       "    </tr>\n",
       "    <tr>\n",
       "      <th>28080</th>\n",
       "      <td>0.647158</td>\n",
       "      <td>0.352842</td>\n",
       "    </tr>\n",
       "  </tbody>\n",
       "</table>\n",
       "<p>28081 rows × 2 columns</p>\n",
       "</div>"
      ],
      "text/plain": [
       "              0         1\n",
       "0      0.787879  0.212121\n",
       "1      0.027707  0.972293\n",
       "2      0.080092  0.919908\n",
       "3      0.231799  0.768201\n",
       "4      0.109497  0.890503\n",
       "...         ...       ...\n",
       "28076  0.726508  0.273492\n",
       "28077  0.906099  0.093901\n",
       "28078  0.413322  0.586678\n",
       "28079  0.857572  0.142428\n",
       "28080  0.647158  0.352842\n",
       "\n",
       "[28081 rows x 2 columns]"
      ]
     },
     "execution_count": 55,
     "metadata": {},
     "output_type": "execute_result"
    }
   ],
   "source": [
    "likelihoods_deadly_encounters = final_model.predict_proba(X)\n",
    "likelihoods_deadly_encounters = pd.DataFrame(likelihoods_deadly_encounters)\n",
    "likelihoods_deadly_encounters"
   ]
  },
  {
   "cell_type": "markdown",
   "metadata": {},
   "source": [
    "-----"
   ]
  }
 ],
 "metadata": {
  "kernelspec": {
   "display_name": "Python 3",
   "language": "python",
   "name": "python3"
  },
  "language_info": {
   "codemirror_mode": {
    "name": "ipython",
    "version": 3
   },
   "file_extension": ".py",
   "mimetype": "text/x-python",
   "name": "python",
   "nbconvert_exporter": "python",
   "pygments_lexer": "ipython3",
   "version": "3.8.3"
  }
 },
 "nbformat": 4,
 "nbformat_minor": 4
}
